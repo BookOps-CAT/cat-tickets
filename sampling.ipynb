{
 "cells": [
  {
   "cell_type": "code",
   "execution_count": 2,
   "id": "e6e0f1ea-60f6-4873-beb5-24ef267992fa",
   "metadata": {},
   "outputs": [],
   "source": [
    "import pandas as pd"
   ]
  },
  {
   "cell_type": "code",
   "execution_count": 7,
   "id": "ba3c9f12-ef4c-472b-8a3f-15087fe9e496",
   "metadata": {},
   "outputs": [],
   "source": [
    "from datetime import datetime"
   ]
  },
  {
   "cell_type": "markdown",
   "id": "15577939-d0b8-4535-b1c3-8de239fdaa50",
   "metadata": {},
   "source": [
    "Use this [sample size calculator](https://www.calculator.net/sample-size-calculator.html)"
   ]
  },
  {
   "cell_type": "markdown",
   "id": "5c2ed107-1e78-4461-be56-f18503d7104c",
   "metadata": {},
   "source": [
    "### base data"
   ]
  },
  {
   "cell_type": "code",
   "execution_count": 3,
   "id": "c7fa82e8-4eda-4ffd-926b-26a058882512",
   "metadata": {},
   "outputs": [
    {
     "name": "stdin",
     "output_type": "stream",
     "text": [
      " private_data/cat-subcategories-over-years.csv\n"
     ]
    }
   ],
   "source": [
    "src_file = input()"
   ]
  },
  {
   "cell_type": "code",
   "execution_count": 4,
   "id": "ae43d20e-a69a-4623-b270-a34879b6dd4c",
   "metadata": {},
   "outputs": [],
   "source": [
    "df = pd.read_csv(src_file, parse_dates=[\"created\"])"
   ]
  },
  {
   "cell_type": "code",
   "execution_count": 5,
   "id": "5034c3d7-f987-4195-b541-34252bfaf40c",
   "metadata": {},
   "outputs": [
    {
     "data": {
      "text/plain": [
       "21250"
      ]
     },
     "execution_count": 5,
     "metadata": {},
     "output_type": "execute_result"
    }
   ],
   "source": [
    "df.shape[0]"
   ]
  },
  {
   "cell_type": "code",
   "execution_count": 10,
   "id": "cac937bd-8d11-4688-8913-41765d3b997d",
   "metadata": {},
   "outputs": [],
   "source": [
    "recent_year_df = df[df[\"created\"] >= datetime(2022, 6, 4)]"
   ]
  },
  {
   "cell_type": "code",
   "execution_count": 11,
   "id": "d32a7a12-7f8b-42f0-9b3f-8f8e38517baa",
   "metadata": {},
   "outputs": [
    {
     "data": {
      "text/plain": [
       "2628"
      ]
     },
     "execution_count": 11,
     "metadata": {},
     "output_type": "execute_result"
    }
   ],
   "source": [
    "recent_year_df.shape[0]"
   ]
  },
  {
   "cell_type": "code",
   "execution_count": 17,
   "id": "6ccb280b-414d-4d34-977d-2935dd6b6fe5",
   "metadata": {},
   "outputs": [
    {
     "data": {
      "text/plain": [
       "['number',\n",
       " 'created',\n",
       " 'category',\n",
       " 'subcategory',\n",
       " 'bpl_location',\n",
       " 'nyp_location',\n",
       " 'system',\n",
       " 'url']"
      ]
     },
     "execution_count": 17,
     "metadata": {},
     "output_type": "execute_result"
    }
   ],
   "source": [
    "recent_year_df.columns.tolist()"
   ]
  },
  {
   "cell_type": "markdown",
   "id": "656af2e3-c7d7-481c-9fc2-d49fdb349462",
   "metadata": {},
   "source": [
    "### RL Other category in the last year"
   ]
  },
  {
   "cell_type": "code",
   "execution_count": 21,
   "id": "e7a82a21-7823-430d-b7ae-f37a24e9e6fb",
   "metadata": {},
   "outputs": [],
   "source": [
    "rl_df = recent_year_df[recent_year_df[\"system\"] == \"NYPL Research\"]"
   ]
  },
  {
   "cell_type": "code",
   "execution_count": 32,
   "id": "c59f9240-5e1b-4555-95c3-fccc9bee598f",
   "metadata": {},
   "outputs": [
    {
     "data": {
      "text/plain": [
       "subcategory\n",
       "Other                                                          0.458167\n",
       "Call number question                                           0.151394\n",
       "Item attached to wrong bib record                              0.075697\n",
       "Barcode sticker request (Research centers only)                0.071713\n",
       "Item record problem                                            0.063745\n",
       "Duplicate records                                              0.055777\n",
       "Sierra bib record error                                        0.051793\n",
       "Electronic resource (Overdrive, Cloud Library, Naxos, etc.)    0.043825\n",
       "Research call no. label request (NYPL only)                    0.011952\n",
       "Volume record needed                                           0.007968\n",
       "OCLC Holdings                                                  0.003984\n",
       "Location code error                                            0.003984\n",
       "Name: proportion, dtype: float64"
      ]
     },
     "execution_count": 32,
     "metadata": {},
     "output_type": "execute_result"
    }
   ],
   "source": [
    "rl_df[\"subcategory\"].value_counts(normalize=True)"
   ]
  },
  {
   "cell_type": "code",
   "execution_count": 22,
   "id": "f0277a6e-b2ac-4c78-b679-33912d058afc",
   "metadata": {},
   "outputs": [
    {
     "data": {
      "text/plain": [
       "251"
      ]
     },
     "execution_count": 22,
     "metadata": {},
     "output_type": "execute_result"
    }
   ],
   "source": [
    "rl_df.shape[0]"
   ]
  },
  {
   "cell_type": "code",
   "execution_count": 25,
   "id": "26190e35-f131-4541-a2f0-ce20e4b75fb8",
   "metadata": {},
   "outputs": [],
   "source": [
    "rl_other = rl_df[rl_df[\"subcategory\"] == \"Other\"]"
   ]
  },
  {
   "cell_type": "code",
   "execution_count": 26,
   "id": "e9070d10-ce53-4250-9298-f14ea0c326e4",
   "metadata": {},
   "outputs": [
    {
     "data": {
      "text/plain": [
       "115"
      ]
     },
     "execution_count": 26,
     "metadata": {},
     "output_type": "execute_result"
    }
   ],
   "source": [
    "rl_other.shape[0]"
   ]
  },
  {
   "cell_type": "code",
   "execution_count": 33,
   "id": "be30a71c-6203-4227-a987-d2a182de1b3b",
   "metadata": {},
   "outputs": [],
   "source": [
    "sample_rl_other = rl_other.sample(n=89, random_state=1)"
   ]
  },
  {
   "cell_type": "code",
   "execution_count": 34,
   "id": "c9f5f118-39c1-453e-aa6d-a4797d6efec9",
   "metadata": {},
   "outputs": [],
   "source": [
    "sample_rl_other.to_csv(\"private_data/sample-rl-other.csv\", columns=[\"number\", \"created\", \"nyp_location\", \"url\"],index=False)"
   ]
  },
  {
   "cell_type": "markdown",
   "id": "435017a9-1487-4c55-b0c5-ec1dddf0d086",
   "metadata": {},
   "source": [
    "### Circ item record tickets"
   ]
  },
  {
   "cell_type": "code",
   "execution_count": 35,
   "id": "f050de32-bb88-41a4-a3ba-22e2b96af9e8",
   "metadata": {},
   "outputs": [],
   "source": [
    "circ_df = recent_year_df[(recent_year_df[\"system\"] != \"NYPL Research\")]"
   ]
  },
  {
   "cell_type": "code",
   "execution_count": 36,
   "id": "2e9db938-603a-40d3-ac7f-1551c4bda03a",
   "metadata": {},
   "outputs": [
    {
     "data": {
      "text/plain": [
       "2377"
      ]
     },
     "execution_count": 36,
     "metadata": {},
     "output_type": "execute_result"
    }
   ],
   "source": [
    "circ_df.shape[0]"
   ]
  },
  {
   "cell_type": "code",
   "execution_count": 37,
   "id": "f18fb235-215a-47ea-aa31-1d84fdea0894",
   "metadata": {},
   "outputs": [],
   "source": [
    "circ_items = circ_df[circ_df[\"subcategory\"].isin([\"Item attached to wrong bib record\", \"Item not linked\", \"Item record problem\", \"Location code error\", \"Volume record needed\"])]"
   ]
  },
  {
   "cell_type": "code",
   "execution_count": 38,
   "id": "cb73269e-1b94-4069-8cd4-ad5a09ba0768",
   "metadata": {},
   "outputs": [
    {
     "data": {
      "text/plain": [
       "882"
      ]
     },
     "execution_count": 38,
     "metadata": {},
     "output_type": "execute_result"
    }
   ],
   "source": [
    "circ_items.shape[0]"
   ]
  },
  {
   "cell_type": "code",
   "execution_count": 39,
   "id": "440b0add-47d8-471d-a6e8-0fca7403c459",
   "metadata": {},
   "outputs": [],
   "source": [
    "circ_items_sample = circ_items.sample(n=268, random_state=1)"
   ]
  },
  {
   "cell_type": "code",
   "execution_count": 41,
   "id": "05b09992-791e-4fb1-9e62-5e47efbcf4d3",
   "metadata": {},
   "outputs": [],
   "source": [
    "circ_items_sample.to_csv(\"private_data/sample-circ-items.csv\", columns=[\"number\", \"created\", \"subcategory\", \"nyp_location\", \"bpl_location\", \"url\"],index=False)"
   ]
  },
  {
   "cell_type": "markdown",
   "id": "1061873e-ca16-452a-bd65-f8072c6ba485",
   "metadata": {},
   "source": [
    "### Circ bib record tickets"
   ]
  },
  {
   "cell_type": "code",
   "execution_count": 42,
   "id": "39166c42-96d4-4b93-8988-7bfd0940975d",
   "metadata": {},
   "outputs": [],
   "source": [
    "circ_bibs = circ_df[circ_df[\"subcategory\"].isin([\"Call number error\", \"Call number missing\", \"Call number question\", \"Sierra bib record error\", \"Other\"])]"
   ]
  },
  {
   "cell_type": "code",
   "execution_count": 43,
   "id": "09cf0c2a-3886-40d6-8b74-6f72194dd6f1",
   "metadata": {},
   "outputs": [
    {
     "data": {
      "text/plain": [
       "1338"
      ]
     },
     "execution_count": 43,
     "metadata": {},
     "output_type": "execute_result"
    }
   ],
   "source": [
    "circ_bibs.shape[0]"
   ]
  },
  {
   "cell_type": "code",
   "execution_count": 44,
   "id": "192aaac8-d680-407d-a1cc-dad6db43774b",
   "metadata": {},
   "outputs": [],
   "source": [
    "circ_bibs_sample = circ_bibs.sample(n=299, random_state=1)"
   ]
  },
  {
   "cell_type": "code",
   "execution_count": 45,
   "id": "b190f74a-d754-4ee6-bb82-ec13287c4d0f",
   "metadata": {},
   "outputs": [],
   "source": [
    "circ_bibs_sample.to_csv(\"private_data/sample-circ-bibs.csv\", columns=[\"number\", \"created\", \"subcategory\", \"nyp_location\", \"bpl_location\", \"url\"],index=False)"
   ]
  },
  {
   "cell_type": "code",
   "execution_count": null,
   "id": "4b7071fc-74bd-4bfc-b96f-16b805eae4bf",
   "metadata": {},
   "outputs": [],
   "source": []
  }
 ],
 "metadata": {
  "kernelspec": {
   "display_name": "Python 3 (ipykernel)",
   "language": "python",
   "name": "python3"
  },
  "language_info": {
   "codemirror_mode": {
    "name": "ipython",
    "version": 3
   },
   "file_extension": ".py",
   "mimetype": "text/x-python",
   "name": "python",
   "nbconvert_exporter": "python",
   "pygments_lexer": "ipython3",
   "version": "3.10.6"
  }
 },
 "nbformat": 4,
 "nbformat_minor": 5
}
