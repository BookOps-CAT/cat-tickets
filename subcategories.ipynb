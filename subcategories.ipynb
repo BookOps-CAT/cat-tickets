{
 "cells": [
  {
   "cell_type": "code",
   "execution_count": 1,
   "id": "bc0b74b4-124a-4f73-8f4d-c6a002654e3b",
   "metadata": {},
   "outputs": [],
   "source": [
    "import pandas as pd"
   ]
  },
  {
   "cell_type": "code",
   "execution_count": 22,
   "id": "087d5b22-1aae-455b-ac3d-615f1154379c",
   "metadata": {},
   "outputs": [],
   "source": [
    "from datetime import datetime"
   ]
  },
  {
   "cell_type": "code",
   "execution_count": 2,
   "id": "e72e8014-7a22-40f2-8b5b-5c978f85b216",
   "metadata": {},
   "outputs": [],
   "source": [
    "df = pd.read_csv(\"public_data/cat-subcategories-over-years.csv\", parse_dates=[\"created\"])"
   ]
  },
  {
   "cell_type": "code",
   "execution_count": 3,
   "id": "5e3e63e4-cd3a-4515-ba8f-d56855026cec",
   "metadata": {},
   "outputs": [
    {
     "data": {
      "text/plain": [
       "21250"
      ]
     },
     "execution_count": 3,
     "metadata": {},
     "output_type": "execute_result"
    }
   ],
   "source": [
    "df.shape[0]"
   ]
  },
  {
   "cell_type": "code",
   "execution_count": 12,
   "id": "303c5fd3-c548-4a13-93e1-3b757e8ad7cf",
   "metadata": {},
   "outputs": [],
   "source": [
    "cat_subs = [\n",
    "    \"Barcode sticker request (Research centers only)\", \"Call number error\", \"Call number missing\", \"Call number question\",\n",
    "    \"Catalog scans (BPL only)\", \"Cataloging Request for a Free Internet Resource (BPL only)\", \"Duplicate records\",\n",
    "    \"Electronic resource (Overdrive, Cloud Library, Naxos, etc.)\", \"Item attached to wrong bib record\", \"Item not linked\",\n",
    "    \"Item record problem\", \"Location code error\", \"OCLC Holdings\", \"Online Catalog\", \"Other\", \"Research call no. label request (NYPL only)\",\n",
    "    \"Sierra bib record error\",  \"Volume record needed\"\n",
    "]"
   ]
  },
  {
   "cell_type": "code",
   "execution_count": 13,
   "id": "3a90ce88-e8e1-474c-811e-1e17e34724ba",
   "metadata": {},
   "outputs": [],
   "source": [
    "# verify all cat subcategories are present in the data set"
   ]
  },
  {
   "cell_type": "code",
   "execution_count": 14,
   "id": "47217a54-08b9-448f-ab04-352a9857e3eb",
   "metadata": {},
   "outputs": [],
   "source": [
    "df_subs = df[\"subcategory\"].unique().tolist()"
   ]
  },
  {
   "cell_type": "code",
   "execution_count": 15,
   "id": "cf71618d-e9ed-4231-a10e-c49419393bce",
   "metadata": {},
   "outputs": [
    {
     "name": "stdout",
     "output_type": "stream",
     "text": [
      "['Item attached to wrong bib record', 'Item not linked', 'Other', 'Call number error', 'Cataloging error', 'Materials not processed with labels, etc.', 'Item record problem', 'Volume record needed', 'Duplicate records', 'Call number missing', 'Location code error', 'Holds fulfillment--NYPL only', 'Online Catalog', 'Barcodes for circulating materials', 'Gift books or Donations--NYPL only', 'OCLC Holdings', 'Electronic resource', 'BiblioCommons', 'Spine labels', 'Barcode sticker request (Research centers only)', 'Materials received without paperwork', 'Damaged material / missing pieces', 'New Item/Title Request', 'Barcoding', 'Cataloging Request for a Free Internet Resource', 'Order request for Research Library', 'Status of request', 'Author and submission inquiries', 'Collection HQ', 'Research call no. label request (NYPL only)', 'Databases and eBooks', 'Shipment delivery error', 'Delivery issue or error', 'Leased items', 'Electronic resource (Overdrive, Cloud Library, Naxos, etc.)', 'Sierra bib record error', 'Call number question', 'Cataloging Request for a Free Internet Resource (BPL only)', 'Suggest a purchase - replace missing/damaged copies', 'E-Resources', 'Catalog scans (BPL only)']\n"
     ]
    }
   ],
   "source": [
    "print(df_subs)"
   ]
  },
  {
   "cell_type": "code",
   "execution_count": 18,
   "id": "b0828e8b-62c2-4389-8bbc-f9129a82db76",
   "metadata": {},
   "outputs": [],
   "source": [
    "for c in cat_subs:\n",
    "    assert c in df_subs"
   ]
  },
  {
   "cell_type": "code",
   "execution_count": 32,
   "id": "cfaf780e-66ce-4c4c-a8ce-810033249924",
   "metadata": {},
   "outputs": [],
   "source": [
    "cdf = df[(df[\"subcategory\"].isin(cat_subs)) & (df[\"created\"] < datetime(2023, 1, 1))]  # filter out non-cataloging subcategories & filter out incomplete last year"
   ]
  },
  {
   "cell_type": "code",
   "execution_count": 33,
   "id": "4972a874-ac9c-4bdd-a694-141aec4078e9",
   "metadata": {},
   "outputs": [],
   "source": [
    "gcdf = cdf.groupby(\"subcategory\")"
   ]
  },
  {
   "cell_type": "code",
   "execution_count": 34,
   "id": "ec4cfc8c-c366-491a-a8aa-b3027d42067f",
   "metadata": {},
   "outputs": [],
   "source": [
    "for sub, d in gcdf:\n",
    "    ygcdf = d.groupby(d[\"created\"].map(lambda x: x.year))\n",
    "    ydf = pd.DataFrame(columns=[\"year\", \"tickets\"])\n",
    "    for year, dy in ygcdf:\n",
    "        new_row = pd.Series({\"year\": year, \"tickets\": dy.shape[0]})\n",
    "        ydf = pd.concat([ydf, new_row.to_frame().T], ignore_index=True)\n",
    "    ydf.to_csv(f\"public_data/sub-{sub}.csv\", index=False)"
   ]
  },
  {
   "cell_type": "code",
   "execution_count": null,
   "id": "a0188d3f-46a7-40fa-a19c-c68da2dfff35",
   "metadata": {},
   "outputs": [],
   "source": []
  }
 ],
 "metadata": {
  "kernelspec": {
   "display_name": "Python 3 (ipykernel)",
   "language": "python",
   "name": "python3"
  },
  "language_info": {
   "codemirror_mode": {
    "name": "ipython",
    "version": 3
   },
   "file_extension": ".py",
   "mimetype": "text/x-python",
   "name": "python",
   "nbconvert_exporter": "python",
   "pygments_lexer": "ipython3",
   "version": "3.10.7"
  }
 },
 "nbformat": 4,
 "nbformat_minor": 5
}
