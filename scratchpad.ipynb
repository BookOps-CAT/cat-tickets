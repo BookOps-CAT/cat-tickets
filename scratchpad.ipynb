{
 "cells": [
  {
   "cell_type": "code",
   "execution_count": 1,
   "id": "4e613f2e-e663-4e1b-a782-57f178d7ec77",
   "metadata": {},
   "outputs": [],
   "source": [
    "import pandas as pd"
   ]
  },
  {
   "cell_type": "code",
   "execution_count": 20,
   "id": "bde7c41f-d868-4a10-b9bd-be50c0e46740",
   "metadata": {},
   "outputs": [],
   "source": [
    "from datetime import datetime, timedelta"
   ]
  },
  {
   "cell_type": "code",
   "execution_count": 3,
   "id": "02f63107-c206-420b-8223-b8f194092730",
   "metadata": {},
   "outputs": [],
   "source": [
    "df = pd.read_csv(\n",
    "    \"src_data/u_bkop_incident_230603.csv\",\n",
    "    parse_dates=[\"created\", \"resolved\"],\n",
    "    low_memory=False\n",
    ")"
   ]
  },
  {
   "cell_type": "code",
   "execution_count": 4,
   "id": "2dbcaf52-73f4-4a69-be96-6f7aa51d70ad",
   "metadata": {},
   "outputs": [
    {
     "data": {
      "text/plain": [
       "121479"
      ]
     },
     "execution_count": 4,
     "metadata": {},
     "output_type": "execute_result"
    }
   ],
   "source": [
    "df.shape[0]"
   ]
  },
  {
   "cell_type": "code",
   "execution_count": 5,
   "id": "60a2e3a8-dd75-4699-bae6-e445661e47d6",
   "metadata": {},
   "outputs": [
    {
     "data": {
      "text/plain": [
       "Index(['number', 'created', 'caller', 'state', 'category', 'subcategory',\n",
       "       'assignment_group', 'bpl_location', 'nyp_location', 'resolved',\n",
       "       'assigned_to', 'system', 'mat_source', 'close_code', 'url',\n",
       "       'reassignment_count', 'updates', 'resolved_by'],\n",
       "      dtype='object')"
      ]
     },
     "execution_count": 5,
     "metadata": {},
     "output_type": "execute_result"
    }
   ],
   "source": [
    "df.columns"
   ]
  },
  {
   "cell_type": "code",
   "execution_count": 6,
   "id": "08210e6a-b98f-4042-9b75-70e715867ae8",
   "metadata": {},
   "outputs": [
    {
     "data": {
      "text/plain": [
       "array(['Cataloging', 'Acquisitions', 'Selection', 'Logistics',\n",
       "       'Offsite - ReCAP', 'Collections Processing', nan], dtype=object)"
      ]
     },
     "execution_count": 6,
     "metadata": {},
     "output_type": "execute_result"
    }
   ],
   "source": [
    "df[\"category\"].unique()"
   ]
  },
  {
   "cell_type": "markdown",
   "id": "1f5c3995-60e2-4996-b7db-1ec155a96f06",
   "metadata": {},
   "source": [
    "### orginated as CAT or resolved by CAT"
   ]
  },
  {
   "cell_type": "code",
   "execution_count": 7,
   "id": "980a561d-028e-4291-8c5a-225d55cfa143",
   "metadata": {},
   "outputs": [],
   "source": [
    "cdf = df[(df[\"category\"] == \"Cataloging\")|(df[\"assignment_group\"] == \"BKOPS CAT\")]"
   ]
  },
  {
   "cell_type": "code",
   "execution_count": 8,
   "id": "1045b9b9-b83b-49a2-9071-b607e5d6d7b4",
   "metadata": {},
   "outputs": [
    {
     "data": {
      "text/plain": [
       "21250"
      ]
     },
     "execution_count": 8,
     "metadata": {},
     "output_type": "execute_result"
    }
   ],
   "source": [
    "cdf.shape[0]"
   ]
  },
  {
   "cell_type": "markdown",
   "id": "61b35528-ae34-442a-a0da-6fc087cc8d24",
   "metadata": {},
   "source": [
    "## CAT tickets volumne by year"
   ]
  },
  {
   "cell_type": "code",
   "execution_count": 9,
   "id": "dcd178e3-40f1-4a65-856c-90e1ecbaaa99",
   "metadata": {},
   "outputs": [],
   "source": [
    "gyear_cdf = cdf.groupby(cdf[\"created\"].map(lambda x: x.year))"
   ]
  },
  {
   "cell_type": "code",
   "execution_count": 10,
   "id": "70484611-79fb-4ea1-b802-d09f526e923a",
   "metadata": {},
   "outputs": [],
   "source": [
    "ycdf = pd.DataFrame(columns=[\"year\", \"tickets\"])"
   ]
  },
  {
   "cell_type": "code",
   "execution_count": 11,
   "id": "19b8efe3-5690-4bae-915f-427b02bd104f",
   "metadata": {},
   "outputs": [],
   "source": [
    "for year, d in gyear_cdf:\n",
    "    new_row = pd.Series({\"year\": year, \"tickets\": d.shape[0]})\n",
    "    ycdf = pd.concat([ycdf, new_row.to_frame().T], ignore_index=True)"
   ]
  },
  {
   "cell_type": "code",
   "execution_count": 12,
   "id": "631a83f6-d136-44fd-88c2-ff251ae6dbd5",
   "metadata": {},
   "outputs": [
    {
     "data": {
      "text/html": [
       "<div>\n",
       "<style scoped>\n",
       "    .dataframe tbody tr th:only-of-type {\n",
       "        vertical-align: middle;\n",
       "    }\n",
       "\n",
       "    .dataframe tbody tr th {\n",
       "        vertical-align: top;\n",
       "    }\n",
       "\n",
       "    .dataframe thead th {\n",
       "        text-align: right;\n",
       "    }\n",
       "</style>\n",
       "<table border=\"1\" class=\"dataframe\">\n",
       "  <thead>\n",
       "    <tr style=\"text-align: right;\">\n",
       "      <th></th>\n",
       "      <th>year</th>\n",
       "      <th>tickets</th>\n",
       "    </tr>\n",
       "  </thead>\n",
       "  <tbody>\n",
       "    <tr>\n",
       "      <th>0</th>\n",
       "      <td>2013</td>\n",
       "      <td>1311</td>\n",
       "    </tr>\n",
       "    <tr>\n",
       "      <th>1</th>\n",
       "      <td>2014</td>\n",
       "      <td>2140</td>\n",
       "    </tr>\n",
       "    <tr>\n",
       "      <th>2</th>\n",
       "      <td>2015</td>\n",
       "      <td>2739</td>\n",
       "    </tr>\n",
       "    <tr>\n",
       "      <th>3</th>\n",
       "      <td>2016</td>\n",
       "      <td>2554</td>\n",
       "    </tr>\n",
       "    <tr>\n",
       "      <th>4</th>\n",
       "      <td>2017</td>\n",
       "      <td>2233</td>\n",
       "    </tr>\n",
       "    <tr>\n",
       "      <th>5</th>\n",
       "      <td>2018</td>\n",
       "      <td>2112</td>\n",
       "    </tr>\n",
       "    <tr>\n",
       "      <th>6</th>\n",
       "      <td>2019</td>\n",
       "      <td>1785</td>\n",
       "    </tr>\n",
       "    <tr>\n",
       "      <th>7</th>\n",
       "      <td>2020</td>\n",
       "      <td>955</td>\n",
       "    </tr>\n",
       "    <tr>\n",
       "      <th>8</th>\n",
       "      <td>2021</td>\n",
       "      <td>1964</td>\n",
       "    </tr>\n",
       "    <tr>\n",
       "      <th>9</th>\n",
       "      <td>2022</td>\n",
       "      <td>2169</td>\n",
       "    </tr>\n",
       "    <tr>\n",
       "      <th>10</th>\n",
       "      <td>2023</td>\n",
       "      <td>1288</td>\n",
       "    </tr>\n",
       "  </tbody>\n",
       "</table>\n",
       "</div>"
      ],
      "text/plain": [
       "    year tickets\n",
       "0   2013    1311\n",
       "1   2014    2140\n",
       "2   2015    2739\n",
       "3   2016    2554\n",
       "4   2017    2233\n",
       "5   2018    2112\n",
       "6   2019    1785\n",
       "7   2020     955\n",
       "8   2021    1964\n",
       "9   2022    2169\n",
       "10  2023    1288"
      ]
     },
     "execution_count": 12,
     "metadata": {},
     "output_type": "execute_result"
    }
   ],
   "source": [
    "ycdf"
   ]
  },
  {
   "cell_type": "code",
   "execution_count": 13,
   "id": "c2ebfec6-338b-424f-95a7-f5f2ca04dda6",
   "metadata": {},
   "outputs": [],
   "source": [
    "ycdf.to_csv(\"public_data/cat-by-year.csv\", index=False)"
   ]
  },
  {
   "cell_type": "code",
   "execution_count": 14,
   "id": "258cebd3-f7d3-4bb2-91d1-9a20c634fdc1",
   "metadata": {},
   "outputs": [],
   "source": [
    "ycdf_rl = pd.DataFrame(columns=[\"system\", \"year\", \"tickets\"])\n",
    "ycdf_bl = pd.DataFrame(columns=[\"system\", \"year\", \"tickets\"])\n",
    "ycdf_bp = pd.DataFrame(columns=[\"system\", \"year\", \"tickets\"])"
   ]
  },
  {
   "cell_type": "code",
   "execution_count": 15,
   "id": "9c599050-95a0-42ad-a26c-ddf1e7ae53d3",
   "metadata": {},
   "outputs": [],
   "source": [
    "for year, d in gyear_cdf:\n",
    "    rl_df = d[d[\"system\"] == \"NYPL Research\"]\n",
    "    bl_df = d[d[\"system\"] == \"NYPL Circulating\"]\n",
    "    bp_df = d[d[\"system\"] == \"BPL Circulating\"]\n",
    "    new_rl = pd.Series({\"system\": \"NYPL RL\", \"year\": year, \"tickets\" : rl_df.shape[0]})\n",
    "    new_bl = pd.Series({\"system\": \"NYPL BL\", \"year\": year, \"tickets\": bl_df.shape[0]})\n",
    "    new_bp = pd.Series({\"system\": \"BPL\", \"year\": year, \"tickets\": bp_df.shape[0]})\n",
    "    ycdf_rl = pd.concat([ycdf_rl, new_rl.to_frame().T], ignore_index=True)\n",
    "    ycdf_bl = pd.concat([ycdf_bl, new_bl.to_frame().T], ignore_index=True)\n",
    "    ycdf_bp = pd.concat([ycdf_bp, new_bp.to_frame().T], ignore_index=True)"
   ]
  },
  {
   "cell_type": "code",
   "execution_count": 16,
   "id": "a43f2f95-3ebd-447f-ba21-c3741b0e6eb2",
   "metadata": {},
   "outputs": [],
   "source": [
    "ycdf_rl.to_csv(\"public_data/rl-by-year.csv\", index=False)\n",
    "ycdf_bl.to_csv(\"public_data/bl-by-year.csv\", index=False)\n",
    "ycdf_bp.to_csv(\"public_data/bp-by-year.csv\", index=False)"
   ]
  },
  {
   "cell_type": "markdown",
   "id": "b2c57aeb-a0bc-4e08-841f-736164964391",
   "metadata": {},
   "source": [
    "## Last year most frequent requesting locations"
   ]
  },
  {
   "cell_type": "code",
   "execution_count": 17,
   "id": "e33d6d7c-df95-4aef-96bf-5924fa345dd5",
   "metadata": {},
   "outputs": [],
   "source": [
    "# treat three systems separatly"
   ]
  },
  {
   "cell_type": "code",
   "execution_count": 21,
   "id": "0d232d5a-1a7f-44fd-9231-4826b7cd4f38",
   "metadata": {},
   "outputs": [
    {
     "name": "stdout",
     "output_type": "stream",
     "text": [
      "2022-06-04 17:46:58.956717\n"
     ]
    }
   ],
   "source": [
    "start_date = datetime.today() - timedelta(365)\n",
    "print(start_date)"
   ]
  },
  {
   "cell_type": "code",
   "execution_count": 57,
   "id": "7ce71cc4-f196-41eb-95a8-13c6c263e481",
   "metadata": {},
   "outputs": [],
   "source": [
    "loc_columns = [\"location\", \"tickets\"]"
   ]
  },
  {
   "cell_type": "markdown",
   "id": "cddff770-7235-4a1a-b185-0495e89eb42f",
   "metadata": {},
   "source": [
    "#### NYPL Research"
   ]
  },
  {
   "cell_type": "code",
   "execution_count": 22,
   "id": "b8795463-ad07-4f76-ac85-884615f03c9e",
   "metadata": {},
   "outputs": [],
   "source": [
    "loc_rl = cdf[(cdf[\"system\"] == \"NYPL Research\") & (cdf[\"created\"] >= start_date)]"
   ]
  },
  {
   "cell_type": "code",
   "execution_count": 23,
   "id": "6a3410d6-2a67-4eaf-85e3-0aa446ce9c38",
   "metadata": {},
   "outputs": [
    {
     "data": {
      "text/plain": [
       "251"
      ]
     },
     "execution_count": 23,
     "metadata": {},
     "output_type": "execute_result"
    }
   ],
   "source": [
    "loc_rl.shape[0]"
   ]
  },
  {
   "cell_type": "code",
   "execution_count": 34,
   "id": "2ef5b7f3-62cf-4d77-b095-be377ecbf51c",
   "metadata": {},
   "outputs": [],
   "source": [
    "gloc_rl = pd.DataFrame(columns=loc_columns)"
   ]
  },
  {
   "cell_type": "code",
   "execution_count": 35,
   "id": "09430ac9-aa79-4f72-9fec-95bc27994ce8",
   "metadata": {},
   "outputs": [
    {
     "name": "stdout",
     "output_type": "stream",
     "text": [
      "Library Services Center 8\n",
      "Library for the Performing Arts 13\n",
      "Schomburg Center for Research in Black Culture 35\n",
      "Stavros Niarchos Foundation Library 5\n",
      "Stephen A. Schwarzman Building 190\n"
     ]
    }
   ],
   "source": [
    "for loc, d in loc_rl.groupby(\"nyp_location\"):\n",
    "    new_row = pd.Series({\"location\": loc, \"tickets\": d.shape[0]})\n",
    "    gloc_rl = pd.concat([gloc_rl, new_row.to_frame().T], ignore_index=True)\n",
    "    print(loc, d.shape[0])"
   ]
  },
  {
   "cell_type": "code",
   "execution_count": 41,
   "id": "d1aa29c4-f478-4614-89c8-adabc5423945",
   "metadata": {},
   "outputs": [],
   "source": [
    "gloc_rl = gloc_rl.sort_values(\"tickets\", ascending=False)"
   ]
  },
  {
   "cell_type": "code",
   "execution_count": 43,
   "id": "60aaf716-33b6-411a-a29c-191dca0d2f34",
   "metadata": {},
   "outputs": [],
   "source": [
    "gloc_rl.to_csv(\"public_data/freq-loc-rl.csv\", index=False)"
   ]
  },
  {
   "cell_type": "markdown",
   "id": "9f183998-c6e4-4b0b-b8ea-631ce7276180",
   "metadata": {},
   "source": [
    "#### NYPL Circ"
   ]
  },
  {
   "cell_type": "code",
   "execution_count": 45,
   "id": "8cd96632-0dc6-49de-9dbf-6911e73c5421",
   "metadata": {},
   "outputs": [],
   "source": [
    "loc_bl = cdf[(cdf[\"system\"] == \"NYPL Circulating\") & (cdf[\"created\"] >= start_date)]"
   ]
  },
  {
   "cell_type": "code",
   "execution_count": 46,
   "id": "c776fdcf-3dde-4773-8bdf-569d7af0b5b8",
   "metadata": {},
   "outputs": [
    {
     "data": {
      "text/plain": [
       "1340"
      ]
     },
     "execution_count": 46,
     "metadata": {},
     "output_type": "execute_result"
    }
   ],
   "source": [
    "loc_bl.shape[0]"
   ]
  },
  {
   "cell_type": "code",
   "execution_count": 48,
   "id": "675be5ee-c008-4c39-9bb2-dcee9e062a0b",
   "metadata": {},
   "outputs": [],
   "source": [
    "gloc_bl = pd.DataFrame(columns=loc_columns)"
   ]
  },
  {
   "cell_type": "code",
   "execution_count": 50,
   "id": "f685e32a-fe7c-4278-9d37-c261cda39488",
   "metadata": {},
   "outputs": [],
   "source": [
    "for loc, d in loc_bl.groupby(\"nyp_location\"):\n",
    "    new_row = pd.Series({\"location\": loc, \"tickets\": d.shape[0]})\n",
    "    gloc_bl = pd.concat([gloc_bl, new_row.to_frame().T], ignore_index=True)"
   ]
  },
  {
   "cell_type": "code",
   "execution_count": 51,
   "id": "972a58a6-d744-428d-84dd-18f82913d0c2",
   "metadata": {},
   "outputs": [],
   "source": [
    "gloc_bl = gloc_bl.sort_values(\"tickets\", ascending=False)"
   ]
  },
  {
   "cell_type": "code",
   "execution_count": 52,
   "id": "460f7281-81a4-4343-ad5a-6000eb5fd12d",
   "metadata": {},
   "outputs": [
    {
     "data": {
      "text/html": [
       "<div>\n",
       "<style scoped>\n",
       "    .dataframe tbody tr th:only-of-type {\n",
       "        vertical-align: middle;\n",
       "    }\n",
       "\n",
       "    .dataframe tbody tr th {\n",
       "        vertical-align: top;\n",
       "    }\n",
       "\n",
       "    .dataframe thead th {\n",
       "        text-align: right;\n",
       "    }\n",
       "</style>\n",
       "<table border=\"1\" class=\"dataframe\">\n",
       "  <thead>\n",
       "    <tr style=\"text-align: right;\">\n",
       "      <th></th>\n",
       "      <th>location</th>\n",
       "      <th>tickets</th>\n",
       "    </tr>\n",
       "  </thead>\n",
       "  <tbody>\n",
       "    <tr>\n",
       "      <th>14</th>\n",
       "      <td>Bronx Library Center</td>\n",
       "      <td>140</td>\n",
       "    </tr>\n",
       "    <tr>\n",
       "      <th>66</th>\n",
       "      <td>Stavros Niarchos Foundation Library</td>\n",
       "      <td>113</td>\n",
       "    </tr>\n",
       "    <tr>\n",
       "      <th>41</th>\n",
       "      <td>Library for the Performing Arts</td>\n",
       "      <td>93</td>\n",
       "    </tr>\n",
       "    <tr>\n",
       "      <th>67</th>\n",
       "      <td>Stephen A. Schwarzman Building</td>\n",
       "      <td>69</td>\n",
       "    </tr>\n",
       "    <tr>\n",
       "      <th>59</th>\n",
       "      <td>Seward Park Library</td>\n",
       "      <td>61</td>\n",
       "    </tr>\n",
       "  </tbody>\n",
       "</table>\n",
       "</div>"
      ],
      "text/plain": [
       "                               location tickets\n",
       "14                 Bronx Library Center     140\n",
       "66  Stavros Niarchos Foundation Library     113\n",
       "41      Library for the Performing Arts      93\n",
       "67       Stephen A. Schwarzman Building      69\n",
       "59                  Seward Park Library      61"
      ]
     },
     "execution_count": 52,
     "metadata": {},
     "output_type": "execute_result"
    }
   ],
   "source": [
    "gloc_bl.head()"
   ]
  },
  {
   "cell_type": "code",
   "execution_count": 53,
   "id": "49783307-1565-4ee3-ad03-aefe1540a9f0",
   "metadata": {},
   "outputs": [],
   "source": [
    "gloc_bl.to_csv(\"public_data/freq-loc-bl.csv\", index=False)"
   ]
  },
  {
   "cell_type": "markdown",
   "id": "5f688b7e-4914-4d9a-9af1-c26dd6562261",
   "metadata": {},
   "source": [
    "#### BPL"
   ]
  },
  {
   "cell_type": "code",
   "execution_count": 54,
   "id": "71a4cce1-0cce-4219-98d6-c37bf7596b51",
   "metadata": {},
   "outputs": [],
   "source": [
    "loc_bp = cdf[(cdf[\"system\"] == \"BPL Circulating\") & (cdf[\"created\"] >= start_date)]"
   ]
  },
  {
   "cell_type": "code",
   "execution_count": 55,
   "id": "33dbadf7-0099-47c2-bbe4-115e9fd8e77a",
   "metadata": {},
   "outputs": [
    {
     "data": {
      "text/plain": [
       "1034"
      ]
     },
     "execution_count": 55,
     "metadata": {},
     "output_type": "execute_result"
    }
   ],
   "source": [
    "loc_bp.shape[0]"
   ]
  },
  {
   "cell_type": "code",
   "execution_count": 58,
   "id": "8234fc1f-2fcf-4060-add8-d2b1a7195ac3",
   "metadata": {},
   "outputs": [],
   "source": [
    "gloc_bp = pd.DataFrame(columns=loc_columns)"
   ]
  },
  {
   "cell_type": "code",
   "execution_count": 59,
   "id": "c78fae1f-b52d-4ef9-a268-fd4d5f9012a7",
   "metadata": {},
   "outputs": [],
   "source": [
    "for loc, d in loc_bp.groupby(\"bpl_location\"):\n",
    "    new_row = pd.Series({\"location\": loc, \"tickets\": d.shape[0]})\n",
    "    gloc_bp = pd.concat([gloc_bp, new_row.to_frame().T], ignore_index=True)"
   ]
  },
  {
   "cell_type": "code",
   "execution_count": 60,
   "id": "fc1726a4-c92a-4c15-8804-b7348195d298",
   "metadata": {},
   "outputs": [],
   "source": [
    "gloc_bp = gloc_bp.sort_values(\"tickets\", ascending=False)"
   ]
  },
  {
   "cell_type": "code",
   "execution_count": 61,
   "id": "1ddbd867-4b53-45d5-a717-bbafe9551145",
   "metadata": {},
   "outputs": [
    {
     "data": {
      "text/html": [
       "<div>\n",
       "<style scoped>\n",
       "    .dataframe tbody tr th:only-of-type {\n",
       "        vertical-align: middle;\n",
       "    }\n",
       "\n",
       "    .dataframe tbody tr th {\n",
       "        vertical-align: top;\n",
       "    }\n",
       "\n",
       "    .dataframe thead th {\n",
       "        text-align: right;\n",
       "    }\n",
       "</style>\n",
       "<table border=\"1\" class=\"dataframe\">\n",
       "  <thead>\n",
       "    <tr style=\"text-align: right;\">\n",
       "      <th></th>\n",
       "      <th>location</th>\n",
       "      <th>tickets</th>\n",
       "    </tr>\n",
       "  </thead>\n",
       "  <tbody>\n",
       "    <tr>\n",
       "      <th>17</th>\n",
       "      <td>Central Literature &amp; Languages - 14</td>\n",
       "      <td>149</td>\n",
       "    </tr>\n",
       "    <tr>\n",
       "      <th>6</th>\n",
       "      <td>Brooklyn Heights - 50</td>\n",
       "      <td>128</td>\n",
       "    </tr>\n",
       "    <tr>\n",
       "      <th>20</th>\n",
       "      <td>Central SST - 16</td>\n",
       "      <td>95</td>\n",
       "    </tr>\n",
       "    <tr>\n",
       "      <th>62</th>\n",
       "      <td>Windsor Terrace - 77</td>\n",
       "      <td>55</td>\n",
       "    </tr>\n",
       "    <tr>\n",
       "      <th>15</th>\n",
       "      <td>Central HBR (Hist/Biog/Rel) - 13</td>\n",
       "      <td>54</td>\n",
       "    </tr>\n",
       "  </tbody>\n",
       "</table>\n",
       "</div>"
      ],
      "text/plain": [
       "                               location tickets\n",
       "17  Central Literature & Languages - 14     149\n",
       "6                 Brooklyn Heights - 50     128\n",
       "20                     Central SST - 16      95\n",
       "62                 Windsor Terrace - 77      55\n",
       "15     Central HBR (Hist/Biog/Rel) - 13      54"
      ]
     },
     "execution_count": 61,
     "metadata": {},
     "output_type": "execute_result"
    }
   ],
   "source": [
    "gloc_bp.head()"
   ]
  },
  {
   "cell_type": "code",
   "execution_count": 62,
   "id": "0d3b5601-494b-499d-8d3e-c0b482441bd5",
   "metadata": {},
   "outputs": [],
   "source": [
    "gloc_bp.to_csv(\"public_data/freq-loc-bp.csv\", index=False)"
   ]
  },
  {
   "cell_type": "code",
   "execution_count": null,
   "id": "8ce9def9-182d-44c1-95b0-92c9107c0403",
   "metadata": {},
   "outputs": [],
   "source": []
  }
 ],
 "metadata": {
  "kernelspec": {
   "display_name": "Python 3 (ipykernel)",
   "language": "python",
   "name": "python3"
  },
  "language_info": {
   "codemirror_mode": {
    "name": "ipython",
    "version": 3
   },
   "file_extension": ".py",
   "mimetype": "text/x-python",
   "name": "python",
   "nbconvert_exporter": "python",
   "pygments_lexer": "ipython3",
   "version": "3.10.7"
  }
 },
 "nbformat": 4,
 "nbformat_minor": 5
}
