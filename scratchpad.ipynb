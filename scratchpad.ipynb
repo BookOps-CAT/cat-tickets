{
 "cells": [
  {
   "cell_type": "code",
   "execution_count": 1,
   "id": "4e613f2e-e663-4e1b-a782-57f178d7ec77",
   "metadata": {},
   "outputs": [],
   "source": [
    "import pandas as pd"
   ]
  },
  {
   "cell_type": "code",
   "execution_count": 2,
   "id": "bde7c41f-d868-4a10-b9bd-be50c0e46740",
   "metadata": {},
   "outputs": [],
   "source": [
    "from datetime import datetime, timedelta"
   ]
  },
  {
   "cell_type": "markdown",
   "id": "3a4ea244-03f8-4b64-b393-5cb890813216",
   "metadata": {},
   "source": [
    "## Ingest export from ServiceNow"
   ]
  },
  {
   "cell_type": "code",
   "execution_count": 3,
   "id": "b237c3e0-c1af-4313-b110-e4ff01a5111c",
   "metadata": {},
   "outputs": [
    {
     "name": "stdin",
     "output_type": "stream",
     "text": [
      " src_data/u_bkop_incident_230603.csv\n"
     ]
    }
   ],
   "source": [
    "src_file = input()"
   ]
  },
  {
   "cell_type": "code",
   "execution_count": 5,
   "id": "02f63107-c206-420b-8223-b8f194092730",
   "metadata": {},
   "outputs": [],
   "source": [
    "df = pd.read_csv(\n",
    "    src_file,\n",
    "    parse_dates=[\"created\", \"resolved\"],\n",
    "    low_memory=False\n",
    ")"
   ]
  },
  {
   "cell_type": "code",
   "execution_count": 6,
   "id": "2dbcaf52-73f4-4a69-be96-6f7aa51d70ad",
   "metadata": {},
   "outputs": [
    {
     "data": {
      "text/plain": [
       "121479"
      ]
     },
     "execution_count": 6,
     "metadata": {},
     "output_type": "execute_result"
    }
   ],
   "source": [
    "df.shape[0]"
   ]
  },
  {
   "cell_type": "code",
   "execution_count": 10,
   "id": "60a2e3a8-dd75-4699-bae6-e445661e47d6",
   "metadata": {},
   "outputs": [],
   "source": [
    "assert df.columns.tolist() == [\n",
    "    \"number\", \"created\", \"caller\", \"state\", \"category\", \"subcategory\",\n",
    "    \"assignment_group\", \"bpl_location\", \"nyp_location\", \"resolved\",\n",
    "    \"assigned_to\", \"system\", \"mat_source\", \"close_code\", \"url\",\n",
    "    \"reassignment_count\", \"updates\", \"resolved_by\"]"
   ]
  },
  {
   "cell_type": "code",
   "execution_count": 11,
   "id": "08210e6a-b98f-4042-9b75-70e715867ae8",
   "metadata": {},
   "outputs": [
    {
     "data": {
      "text/plain": [
       "array(['Cataloging', 'Acquisitions', 'Selection', 'Logistics',\n",
       "       'Offsite - ReCAP', 'Collections Processing', nan], dtype=object)"
      ]
     },
     "execution_count": 11,
     "metadata": {},
     "output_type": "execute_result"
    }
   ],
   "source": [
    "df[\"category\"].unique()"
   ]
  },
  {
   "cell_type": "markdown",
   "id": "6adc99a5-ecb2-4dd3-a6b0-1bd6e1c7156e",
   "metadata": {},
   "source": [
    "### Narrow down to Cataloging tickets: orginated as CAT or assigned to CAT"
   ]
  },
  {
   "cell_type": "code",
   "execution_count": 13,
   "id": "980a561d-028e-4291-8c5a-225d55cfa143",
   "metadata": {},
   "outputs": [],
   "source": [
    "cdf = df[(df[\"category\"] == \"Cataloging\")|(df[\"assignment_group\"] == \"BKOPS CAT\")]"
   ]
  },
  {
   "cell_type": "code",
   "execution_count": 14,
   "id": "1045b9b9-b83b-49a2-9071-b607e5d6d7b4",
   "metadata": {},
   "outputs": [
    {
     "data": {
      "text/plain": [
       "21250"
      ]
     },
     "execution_count": 14,
     "metadata": {},
     "output_type": "execute_result"
    }
   ],
   "source": [
    "cdf.shape[0]"
   ]
  },
  {
   "cell_type": "markdown",
   "id": "b2190141-c75e-4c78-ab88-e3f4ed294630",
   "metadata": {},
   "source": [
    "## CAT tickets volumne by year"
   ]
  },
  {
   "cell_type": "code",
   "execution_count": 15,
   "id": "dcd178e3-40f1-4a65-856c-90e1ecbaaa99",
   "metadata": {},
   "outputs": [],
   "source": [
    "gyear_cdf = cdf.groupby(cdf[\"created\"].map(lambda x: x.year))"
   ]
  },
  {
   "cell_type": "code",
   "execution_count": 16,
   "id": "70484611-79fb-4ea1-b802-d09f526e923a",
   "metadata": {},
   "outputs": [],
   "source": [
    "ycdf = pd.DataFrame(columns=[\"year\", \"tickets\"])"
   ]
  },
  {
   "cell_type": "code",
   "execution_count": 17,
   "id": "19b8efe3-5690-4bae-915f-427b02bd104f",
   "metadata": {},
   "outputs": [],
   "source": [
    "for year, d in gyear_cdf:\n",
    "    new_row = pd.Series({\"year\": year, \"tickets\": d.shape[0]})\n",
    "    ycdf = pd.concat([ycdf, new_row.to_frame().T], ignore_index=True)"
   ]
  },
  {
   "cell_type": "code",
   "execution_count": 18,
   "id": "631a83f6-d136-44fd-88c2-ff251ae6dbd5",
   "metadata": {},
   "outputs": [
    {
     "data": {
      "text/html": [
       "<div>\n",
       "<style scoped>\n",
       "    .dataframe tbody tr th:only-of-type {\n",
       "        vertical-align: middle;\n",
       "    }\n",
       "\n",
       "    .dataframe tbody tr th {\n",
       "        vertical-align: top;\n",
       "    }\n",
       "\n",
       "    .dataframe thead th {\n",
       "        text-align: right;\n",
       "    }\n",
       "</style>\n",
       "<table border=\"1\" class=\"dataframe\">\n",
       "  <thead>\n",
       "    <tr style=\"text-align: right;\">\n",
       "      <th></th>\n",
       "      <th>year</th>\n",
       "      <th>tickets</th>\n",
       "    </tr>\n",
       "  </thead>\n",
       "  <tbody>\n",
       "    <tr>\n",
       "      <th>0</th>\n",
       "      <td>2013</td>\n",
       "      <td>1311</td>\n",
       "    </tr>\n",
       "    <tr>\n",
       "      <th>1</th>\n",
       "      <td>2014</td>\n",
       "      <td>2140</td>\n",
       "    </tr>\n",
       "    <tr>\n",
       "      <th>2</th>\n",
       "      <td>2015</td>\n",
       "      <td>2739</td>\n",
       "    </tr>\n",
       "    <tr>\n",
       "      <th>3</th>\n",
       "      <td>2016</td>\n",
       "      <td>2554</td>\n",
       "    </tr>\n",
       "    <tr>\n",
       "      <th>4</th>\n",
       "      <td>2017</td>\n",
       "      <td>2233</td>\n",
       "    </tr>\n",
       "    <tr>\n",
       "      <th>5</th>\n",
       "      <td>2018</td>\n",
       "      <td>2112</td>\n",
       "    </tr>\n",
       "    <tr>\n",
       "      <th>6</th>\n",
       "      <td>2019</td>\n",
       "      <td>1785</td>\n",
       "    </tr>\n",
       "    <tr>\n",
       "      <th>7</th>\n",
       "      <td>2020</td>\n",
       "      <td>955</td>\n",
       "    </tr>\n",
       "    <tr>\n",
       "      <th>8</th>\n",
       "      <td>2021</td>\n",
       "      <td>1964</td>\n",
       "    </tr>\n",
       "    <tr>\n",
       "      <th>9</th>\n",
       "      <td>2022</td>\n",
       "      <td>2169</td>\n",
       "    </tr>\n",
       "    <tr>\n",
       "      <th>10</th>\n",
       "      <td>2023</td>\n",
       "      <td>1288</td>\n",
       "    </tr>\n",
       "  </tbody>\n",
       "</table>\n",
       "</div>"
      ],
      "text/plain": [
       "    year tickets\n",
       "0   2013    1311\n",
       "1   2014    2140\n",
       "2   2015    2739\n",
       "3   2016    2554\n",
       "4   2017    2233\n",
       "5   2018    2112\n",
       "6   2019    1785\n",
       "7   2020     955\n",
       "8   2021    1964\n",
       "9   2022    2169\n",
       "10  2023    1288"
      ]
     },
     "execution_count": 18,
     "metadata": {},
     "output_type": "execute_result"
    }
   ],
   "source": [
    "ycdf"
   ]
  },
  {
   "cell_type": "code",
   "execution_count": 19,
   "id": "c2ebfec6-338b-424f-95a7-f5f2ca04dda6",
   "metadata": {},
   "outputs": [],
   "source": [
    "ycdf.to_csv(\"public_data/cat-by-year.csv\", index=False)"
   ]
  },
  {
   "cell_type": "markdown",
   "id": "a62d6d31-fe0b-419c-838c-1fbab2bb582c",
   "metadata": {},
   "source": [
    "### Expected volume in the most recent year"
   ]
  },
  {
   "cell_type": "code",
   "execution_count": null,
   "id": "3bc78952-1d30-4123-b236-5ba92353a0d6",
   "metadata": {},
   "outputs": [],
   "source": [
    "## assume the last row in cdf shows cutoff date for the analysis"
   ]
  },
  {
   "cell_type": "code",
   "execution_count": 20,
   "id": "3258ab5d-17a7-493d-b06f-be0ba0767a4d",
   "metadata": {},
   "outputs": [],
   "source": [
    "last_day = cdf.iloc[-1][\"created\"]"
   ]
  },
  {
   "cell_type": "code",
   "execution_count": 38,
   "id": "0f825545-5c4b-4edf-bd02-453b06354a45",
   "metadata": {},
   "outputs": [],
   "source": [
    "days_to_date = (last_day - datetime(last_day.year, 1, 1)).days  # warning, there must be enough to date data for such prediction to make sense"
   ]
  },
  {
   "cell_type": "code",
   "execution_count": 39,
   "id": "11739290-42cc-44f5-9de9-c85f873b9c89",
   "metadata": {},
   "outputs": [],
   "source": [
    "days_to_go = (datetime(last_day.year, 12, 31) - last_day).days"
   ]
  },
  {
   "cell_type": "code",
   "execution_count": 40,
   "id": "e536de1b-c903-459d-bf81-b083df52fb4f",
   "metadata": {},
   "outputs": [],
   "source": [
    "# calculate expected volume proportionally"
   ]
  },
  {
   "cell_type": "code",
   "execution_count": 49,
   "id": "7a4231a5-5528-4a67-bc14-61a59bc6f8de",
   "metadata": {},
   "outputs": [],
   "source": [
    "tickets_to_date = ycdf.iloc[-1][\"tickets\"]"
   ]
  },
  {
   "cell_type": "code",
   "execution_count": 50,
   "id": "f681caae-1cd9-41d1-ae0e-4ecadfd7732f",
   "metadata": {},
   "outputs": [],
   "source": [
    "expected_current_year_volume = round((days_to_go * tickets_to_date) / days_to_date) + tickets_to_date"
   ]
  },
  {
   "cell_type": "code",
   "execution_count": 52,
   "id": "e003a757-97d6-498c-b9dd-4b44aa9fc5e6",
   "metadata": {},
   "outputs": [
    {
     "name": "stdout",
     "output_type": "stream",
     "text": [
      "expected volume in 2023: 3056\n"
     ]
    }
   ],
   "source": [
    "print(f\"Expected volume in {last_day.year}: {expected_current_year_volume}\")"
   ]
  },
  {
   "cell_type": "markdown",
   "id": "e848e6a5-fc1a-4b62-a9cd-04cdf35b0159",
   "metadata": {},
   "source": [
    "### Volume breakdown by system"
   ]
  },
  {
   "cell_type": "code",
   "execution_count": 53,
   "id": "258cebd3-f7d3-4bb2-91d1-9a20c634fdc1",
   "metadata": {},
   "outputs": [],
   "source": [
    "ycdf_rl = pd.DataFrame(columns=[\"system\", \"year\", \"tickets\"])\n",
    "ycdf_bl = pd.DataFrame(columns=[\"system\", \"year\", \"tickets\"])\n",
    "ycdf_bp = pd.DataFrame(columns=[\"system\", \"year\", \"tickets\"])"
   ]
  },
  {
   "cell_type": "code",
   "execution_count": 54,
   "id": "9c599050-95a0-42ad-a26c-ddf1e7ae53d3",
   "metadata": {},
   "outputs": [],
   "source": [
    "for year, d in gyear_cdf:\n",
    "    rl_df = d[d[\"system\"] == \"NYPL Research\"]\n",
    "    bl_df = d[d[\"system\"] == \"NYPL Circulating\"]\n",
    "    bp_df = d[d[\"system\"] == \"BPL Circulating\"]\n",
    "    new_rl = pd.Series({\"system\": \"NYPL RL\", \"year\": year, \"tickets\" : rl_df.shape[0]})\n",
    "    new_bl = pd.Series({\"system\": \"NYPL BL\", \"year\": year, \"tickets\": bl_df.shape[0]})\n",
    "    new_bp = pd.Series({\"system\": \"BPL\", \"year\": year, \"tickets\": bp_df.shape[0]})\n",
    "    ycdf_rl = pd.concat([ycdf_rl, new_rl.to_frame().T], ignore_index=True)\n",
    "    ycdf_bl = pd.concat([ycdf_bl, new_bl.to_frame().T], ignore_index=True)\n",
    "    ycdf_bp = pd.concat([ycdf_bp, new_bp.to_frame().T], ignore_index=True)"
   ]
  },
  {
   "cell_type": "code",
   "execution_count": 55,
   "id": "a43f2f95-3ebd-447f-ba21-c3741b0e6eb2",
   "metadata": {},
   "outputs": [],
   "source": [
    "ycdf_rl.to_csv(\"public_data/rl-by-year.csv\", index=False)\n",
    "ycdf_bl.to_csv(\"public_data/bl-by-year.csv\", index=False)\n",
    "ycdf_bp.to_csv(\"public_data/bp-by-year.csv\", index=False)"
   ]
  },
  {
   "cell_type": "markdown",
   "id": "c7cef24f-ab97-4fed-a399-401c52de5a55",
   "metadata": {},
   "source": [
    "#### Expected volume by system"
   ]
  },
  {
   "cell_type": "code",
   "execution_count": 60,
   "id": "9ee8aa86-2e24-409b-9d8b-97567d77b5d7",
   "metadata": {},
   "outputs": [],
   "source": [
    "rl_tickets_to_date = ycdf_rl.iloc[-1][\"tickets\"]"
   ]
  },
  {
   "cell_type": "code",
   "execution_count": 61,
   "id": "af703215-8afd-46d3-a7a8-21859412a2df",
   "metadata": {},
   "outputs": [],
   "source": [
    "bl_tickets_to_date = ycdf_bl.iloc[-1][\"tickets\"]"
   ]
  },
  {
   "cell_type": "code",
   "execution_count": 62,
   "id": "517828e0-1618-4f4f-92ef-af7e1c833002",
   "metadata": {},
   "outputs": [],
   "source": [
    "bp_tickets_to_date = ycdf_bp.iloc[-1][\"tickets\"]"
   ]
  },
  {
   "cell_type": "code",
   "execution_count": 63,
   "id": "2b034f6c-0c86-41f7-9c87-0e53be1a414d",
   "metadata": {},
   "outputs": [],
   "source": [
    "expected_current_year_volume_rl = round((days_to_go * rl_tickets_to_date) / days_to_date) + rl_tickets_to_date"
   ]
  },
  {
   "cell_type": "code",
   "execution_count": 65,
   "id": "bc008c02-e4a2-4f5f-b160-1de8a86236d5",
   "metadata": {},
   "outputs": [],
   "source": [
    "expected_current_year_volume_bl = round((days_to_go * bl_tickets_to_date) / days_to_date) + bl_tickets_to_date"
   ]
  },
  {
   "cell_type": "code",
   "execution_count": 66,
   "id": "3bf0e364-32de-44b7-93ce-5e030fdcfe96",
   "metadata": {},
   "outputs": [],
   "source": [
    "expected_current_year_volume_bp = round((days_to_go * bp_tickets_to_date) / days_to_date) + bp_tickets_to_date"
   ]
  },
  {
   "cell_type": "code",
   "execution_count": 70,
   "id": "7189668c-1c05-4153-9ed9-cab1afb517b3",
   "metadata": {},
   "outputs": [
    {
     "name": "stdout",
     "output_type": "stream",
     "text": [
      "Expected NYPL RL volume in 2023: 235\n",
      "Expected NYPL BL volume in 2023: 1599\n",
      "Expected NYPL BPL volume in 2023: 1222\n"
     ]
    }
   ],
   "source": [
    "print(f\"Expected NYPL RL volume in {last_day.year}: {expected_current_year_volume_rl}\")\n",
    "print(f\"Expected NYPL BL volume in {last_day.year}: {expected_current_year_volume_bl}\")\n",
    "print(f\"Expected NYPL BPL volume in {last_day.year}: {expected_current_year_volume_bp}\")"
   ]
  },
  {
   "cell_type": "markdown",
   "id": "b2c57aeb-a0bc-4e08-841f-736164964391",
   "metadata": {},
   "source": [
    "## Last year most frequent requesting locations"
   ]
  },
  {
   "cell_type": "code",
   "execution_count": 73,
   "id": "e33d6d7c-df95-4aef-96bf-5924fa345dd5",
   "metadata": {},
   "outputs": [],
   "source": [
    "# treat three systems separately"
   ]
  },
  {
   "cell_type": "code",
   "execution_count": 74,
   "id": "1bb4f57c-ffc5-476b-83ac-452e3c255f0e",
   "metadata": {},
   "outputs": [
    {
     "name": "stdin",
     "output_type": "stream",
     "text": [
      " 2023-06-04\n"
     ]
    }
   ],
   "source": [
    "start_date_str = input()  # enter format: YYYY-MM-DD"
   ]
  },
  {
   "cell_type": "code",
   "execution_count": 75,
   "id": "0d232d5a-1a7f-44fd-9231-4826b7cd4f38",
   "metadata": {},
   "outputs": [
    {
     "name": "stdout",
     "output_type": "stream",
     "text": [
      "2022-06-04 00:00:00\n"
     ]
    }
   ],
   "source": [
    "start_date = datetime.strptime(start_date_str, \"%Y-%m-%d\") - timedelta(365)\n",
    "print(start_date)"
   ]
  },
  {
   "cell_type": "code",
   "execution_count": 76,
   "id": "7ce71cc4-f196-41eb-95a8-13c6c263e481",
   "metadata": {},
   "outputs": [],
   "source": [
    "loc_columns = [\"location\", \"tickets\"]"
   ]
  },
  {
   "cell_type": "markdown",
   "id": "cddff770-7235-4a1a-b185-0495e89eb42f",
   "metadata": {},
   "source": [
    "#### NYPL Research"
   ]
  },
  {
   "cell_type": "code",
   "execution_count": 77,
   "id": "b8795463-ad07-4f76-ac85-884615f03c9e",
   "metadata": {},
   "outputs": [],
   "source": [
    "loc_rl = cdf[(cdf[\"system\"] == \"NYPL Research\") & (cdf[\"created\"] >= start_date)]"
   ]
  },
  {
   "cell_type": "code",
   "execution_count": 78,
   "id": "6a3410d6-2a67-4eaf-85e3-0aa446ce9c38",
   "metadata": {},
   "outputs": [
    {
     "data": {
      "text/plain": [
       "251"
      ]
     },
     "execution_count": 78,
     "metadata": {},
     "output_type": "execute_result"
    }
   ],
   "source": [
    "loc_rl.shape[0]"
   ]
  },
  {
   "cell_type": "code",
   "execution_count": 79,
   "id": "2ef5b7f3-62cf-4d77-b095-be377ecbf51c",
   "metadata": {},
   "outputs": [],
   "source": [
    "gloc_rl = pd.DataFrame(columns=loc_columns)"
   ]
  },
  {
   "cell_type": "code",
   "execution_count": 80,
   "id": "09430ac9-aa79-4f72-9fec-95bc27994ce8",
   "metadata": {},
   "outputs": [
    {
     "name": "stdout",
     "output_type": "stream",
     "text": [
      "Library Services Center 8\n",
      "Library for the Performing Arts 13\n",
      "Schomburg Center for Research in Black Culture 35\n",
      "Stavros Niarchos Foundation Library 5\n",
      "Stephen A. Schwarzman Building 190\n"
     ]
    }
   ],
   "source": [
    "for loc, d in loc_rl.groupby(\"nyp_location\"):\n",
    "    new_row = pd.Series({\"location\": loc, \"tickets\": d.shape[0]})\n",
    "    gloc_rl = pd.concat([gloc_rl, new_row.to_frame().T], ignore_index=True)\n",
    "    print(loc, d.shape[0])"
   ]
  },
  {
   "cell_type": "code",
   "execution_count": 81,
   "id": "d1aa29c4-f478-4614-89c8-adabc5423945",
   "metadata": {},
   "outputs": [],
   "source": [
    "gloc_rl = gloc_rl.sort_values(\"tickets\", ascending=False)"
   ]
  },
  {
   "cell_type": "code",
   "execution_count": 82,
   "id": "60aaf716-33b6-411a-a29c-191dca0d2f34",
   "metadata": {},
   "outputs": [],
   "source": [
    "gloc_rl.to_csv(\"public_data/freq-loc-rl.csv\", index=False)"
   ]
  },
  {
   "cell_type": "markdown",
   "id": "9f183998-c6e4-4b0b-b8ea-631ce7276180",
   "metadata": {},
   "source": [
    "#### NYPL Circ"
   ]
  },
  {
   "cell_type": "code",
   "execution_count": 83,
   "id": "8cd96632-0dc6-49de-9dbf-6911e73c5421",
   "metadata": {},
   "outputs": [],
   "source": [
    "loc_bl = cdf[(cdf[\"system\"] == \"NYPL Circulating\") & (cdf[\"created\"] >= start_date)]"
   ]
  },
  {
   "cell_type": "code",
   "execution_count": 84,
   "id": "c776fdcf-3dde-4773-8bdf-569d7af0b5b8",
   "metadata": {},
   "outputs": [
    {
     "data": {
      "text/plain": [
       "1342"
      ]
     },
     "execution_count": 84,
     "metadata": {},
     "output_type": "execute_result"
    }
   ],
   "source": [
    "loc_bl.shape[0]"
   ]
  },
  {
   "cell_type": "code",
   "execution_count": 85,
   "id": "675be5ee-c008-4c39-9bb2-dcee9e062a0b",
   "metadata": {},
   "outputs": [],
   "source": [
    "gloc_bl = pd.DataFrame(columns=loc_columns)"
   ]
  },
  {
   "cell_type": "code",
   "execution_count": 86,
   "id": "f685e32a-fe7c-4278-9d37-c261cda39488",
   "metadata": {},
   "outputs": [],
   "source": [
    "for loc, d in loc_bl.groupby(\"nyp_location\"):\n",
    "    new_row = pd.Series({\"location\": loc, \"tickets\": d.shape[0]})\n",
    "    gloc_bl = pd.concat([gloc_bl, new_row.to_frame().T], ignore_index=True)"
   ]
  },
  {
   "cell_type": "code",
   "execution_count": 87,
   "id": "972a58a6-d744-428d-84dd-18f82913d0c2",
   "metadata": {},
   "outputs": [],
   "source": [
    "gloc_bl = gloc_bl.sort_values(\"tickets\", ascending=False)"
   ]
  },
  {
   "cell_type": "code",
   "execution_count": 88,
   "id": "460f7281-81a4-4343-ad5a-6000eb5fd12d",
   "metadata": {},
   "outputs": [
    {
     "data": {
      "text/html": [
       "<div>\n",
       "<style scoped>\n",
       "    .dataframe tbody tr th:only-of-type {\n",
       "        vertical-align: middle;\n",
       "    }\n",
       "\n",
       "    .dataframe tbody tr th {\n",
       "        vertical-align: top;\n",
       "    }\n",
       "\n",
       "    .dataframe thead th {\n",
       "        text-align: right;\n",
       "    }\n",
       "</style>\n",
       "<table border=\"1\" class=\"dataframe\">\n",
       "  <thead>\n",
       "    <tr style=\"text-align: right;\">\n",
       "      <th></th>\n",
       "      <th>location</th>\n",
       "      <th>tickets</th>\n",
       "    </tr>\n",
       "  </thead>\n",
       "  <tbody>\n",
       "    <tr>\n",
       "      <th>14</th>\n",
       "      <td>Bronx Library Center</td>\n",
       "      <td>140</td>\n",
       "    </tr>\n",
       "    <tr>\n",
       "      <th>66</th>\n",
       "      <td>Stavros Niarchos Foundation Library</td>\n",
       "      <td>113</td>\n",
       "    </tr>\n",
       "    <tr>\n",
       "      <th>41</th>\n",
       "      <td>Library for the Performing Arts</td>\n",
       "      <td>93</td>\n",
       "    </tr>\n",
       "    <tr>\n",
       "      <th>67</th>\n",
       "      <td>Stephen A. Schwarzman Building</td>\n",
       "      <td>69</td>\n",
       "    </tr>\n",
       "    <tr>\n",
       "      <th>59</th>\n",
       "      <td>Seward Park Library</td>\n",
       "      <td>61</td>\n",
       "    </tr>\n",
       "  </tbody>\n",
       "</table>\n",
       "</div>"
      ],
      "text/plain": [
       "                               location tickets\n",
       "14                 Bronx Library Center     140\n",
       "66  Stavros Niarchos Foundation Library     113\n",
       "41      Library for the Performing Arts      93\n",
       "67       Stephen A. Schwarzman Building      69\n",
       "59                  Seward Park Library      61"
      ]
     },
     "execution_count": 88,
     "metadata": {},
     "output_type": "execute_result"
    }
   ],
   "source": [
    "gloc_bl.head()"
   ]
  },
  {
   "cell_type": "code",
   "execution_count": 97,
   "id": "443fe08d-19dc-41b9-88a1-051bc998f1f5",
   "metadata": {},
   "outputs": [
    {
     "data": {
      "text/html": [
       "<div>\n",
       "<style scoped>\n",
       "    .dataframe tbody tr th:only-of-type {\n",
       "        vertical-align: middle;\n",
       "    }\n",
       "\n",
       "    .dataframe tbody tr th {\n",
       "        vertical-align: top;\n",
       "    }\n",
       "\n",
       "    .dataframe thead th {\n",
       "        text-align: right;\n",
       "    }\n",
       "</style>\n",
       "<table border=\"1\" class=\"dataframe\">\n",
       "  <thead>\n",
       "    <tr style=\"text-align: right;\">\n",
       "      <th></th>\n",
       "      <th>location</th>\n",
       "      <th>tickets</th>\n",
       "    </tr>\n",
       "  </thead>\n",
       "  <tbody>\n",
       "    <tr>\n",
       "      <th>12</th>\n",
       "      <td>Bookmobile, Manhattan</td>\n",
       "      <td>1</td>\n",
       "    </tr>\n",
       "    <tr>\n",
       "      <th>34</th>\n",
       "      <td>Huguenot Park Library</td>\n",
       "      <td>1</td>\n",
       "    </tr>\n",
       "    <tr>\n",
       "      <th>18</th>\n",
       "      <td>Clason's Point Library</td>\n",
       "      <td>1</td>\n",
       "    </tr>\n",
       "    <tr>\n",
       "      <th>22</th>\n",
       "      <td>Eastchester Library</td>\n",
       "      <td>1</td>\n",
       "    </tr>\n",
       "    <tr>\n",
       "      <th>0</th>\n",
       "      <td>270MAD</td>\n",
       "      <td>1</td>\n",
       "    </tr>\n",
       "  </tbody>\n",
       "</table>\n",
       "</div>"
      ],
      "text/plain": [
       "                  location tickets\n",
       "12   Bookmobile, Manhattan       1\n",
       "34   Huguenot Park Library       1\n",
       "18  Clason's Point Library       1\n",
       "22     Eastchester Library       1\n",
       "0                   270MAD       1"
      ]
     },
     "execution_count": 97,
     "metadata": {},
     "output_type": "execute_result"
    }
   ],
   "source": [
    "gloc_bl.tail()"
   ]
  },
  {
   "cell_type": "code",
   "execution_count": 89,
   "id": "49783307-1565-4ee3-ad03-aefe1540a9f0",
   "metadata": {},
   "outputs": [],
   "source": [
    "gloc_bl.to_csv(\"public_data/freq-loc-bl.csv\", index=False)"
   ]
  },
  {
   "cell_type": "markdown",
   "id": "5f688b7e-4914-4d9a-9af1-c26dd6562261",
   "metadata": {},
   "source": [
    "#### BPL"
   ]
  },
  {
   "cell_type": "code",
   "execution_count": 90,
   "id": "71a4cce1-0cce-4219-98d6-c37bf7596b51",
   "metadata": {},
   "outputs": [],
   "source": [
    "loc_bp = cdf[(cdf[\"system\"] == \"BPL Circulating\") & (cdf[\"created\"] >= start_date)]"
   ]
  },
  {
   "cell_type": "code",
   "execution_count": 91,
   "id": "33dbadf7-0099-47c2-bbe4-115e9fd8e77a",
   "metadata": {},
   "outputs": [
    {
     "data": {
      "text/plain": [
       "1035"
      ]
     },
     "execution_count": 91,
     "metadata": {},
     "output_type": "execute_result"
    }
   ],
   "source": [
    "loc_bp.shape[0]"
   ]
  },
  {
   "cell_type": "code",
   "execution_count": 92,
   "id": "8234fc1f-2fcf-4060-add8-d2b1a7195ac3",
   "metadata": {},
   "outputs": [],
   "source": [
    "gloc_bp = pd.DataFrame(columns=loc_columns)"
   ]
  },
  {
   "cell_type": "code",
   "execution_count": 93,
   "id": "c78fae1f-b52d-4ef9-a268-fd4d5f9012a7",
   "metadata": {},
   "outputs": [],
   "source": [
    "for loc, d in loc_bp.groupby(\"bpl_location\"):\n",
    "    new_row = pd.Series({\"location\": loc, \"tickets\": d.shape[0]})\n",
    "    gloc_bp = pd.concat([gloc_bp, new_row.to_frame().T], ignore_index=True)"
   ]
  },
  {
   "cell_type": "code",
   "execution_count": 94,
   "id": "fc1726a4-c92a-4c15-8804-b7348195d298",
   "metadata": {},
   "outputs": [],
   "source": [
    "gloc_bp = gloc_bp.sort_values(\"tickets\", ascending=False)"
   ]
  },
  {
   "cell_type": "code",
   "execution_count": 95,
   "id": "1ddbd867-4b53-45d5-a717-bbafe9551145",
   "metadata": {},
   "outputs": [
    {
     "data": {
      "text/html": [
       "<div>\n",
       "<style scoped>\n",
       "    .dataframe tbody tr th:only-of-type {\n",
       "        vertical-align: middle;\n",
       "    }\n",
       "\n",
       "    .dataframe tbody tr th {\n",
       "        vertical-align: top;\n",
       "    }\n",
       "\n",
       "    .dataframe thead th {\n",
       "        text-align: right;\n",
       "    }\n",
       "</style>\n",
       "<table border=\"1\" class=\"dataframe\">\n",
       "  <thead>\n",
       "    <tr style=\"text-align: right;\">\n",
       "      <th></th>\n",
       "      <th>location</th>\n",
       "      <th>tickets</th>\n",
       "    </tr>\n",
       "  </thead>\n",
       "  <tbody>\n",
       "    <tr>\n",
       "      <th>17</th>\n",
       "      <td>Central Literature &amp; Languages - 14</td>\n",
       "      <td>149</td>\n",
       "    </tr>\n",
       "    <tr>\n",
       "      <th>6</th>\n",
       "      <td>Brooklyn Heights - 50</td>\n",
       "      <td>128</td>\n",
       "    </tr>\n",
       "    <tr>\n",
       "      <th>20</th>\n",
       "      <td>Central SST - 16</td>\n",
       "      <td>96</td>\n",
       "    </tr>\n",
       "    <tr>\n",
       "      <th>62</th>\n",
       "      <td>Windsor Terrace - 77</td>\n",
       "      <td>55</td>\n",
       "    </tr>\n",
       "    <tr>\n",
       "      <th>15</th>\n",
       "      <td>Central HBR (Hist/Biog/Rel) - 13</td>\n",
       "      <td>54</td>\n",
       "    </tr>\n",
       "  </tbody>\n",
       "</table>\n",
       "</div>"
      ],
      "text/plain": [
       "                               location tickets\n",
       "17  Central Literature & Languages - 14     149\n",
       "6                 Brooklyn Heights - 50     128\n",
       "20                     Central SST - 16      96\n",
       "62                 Windsor Terrace - 77      55\n",
       "15     Central HBR (Hist/Biog/Rel) - 13      54"
      ]
     },
     "execution_count": 95,
     "metadata": {},
     "output_type": "execute_result"
    }
   ],
   "source": [
    "gloc_bp.head()"
   ]
  },
  {
   "cell_type": "code",
   "execution_count": 98,
   "id": "d719b6a3-d56d-4a60-82e6-11fbeb7418d9",
   "metadata": {},
   "outputs": [
    {
     "data": {
      "text/html": [
       "<div>\n",
       "<style scoped>\n",
       "    .dataframe tbody tr th:only-of-type {\n",
       "        vertical-align: middle;\n",
       "    }\n",
       "\n",
       "    .dataframe tbody tr th {\n",
       "        vertical-align: top;\n",
       "    }\n",
       "\n",
       "    .dataframe thead th {\n",
       "        text-align: right;\n",
       "    }\n",
       "</style>\n",
       "<table border=\"1\" class=\"dataframe\">\n",
       "  <thead>\n",
       "    <tr style=\"text-align: right;\">\n",
       "      <th></th>\n",
       "      <th>location</th>\n",
       "      <th>tickets</th>\n",
       "    </tr>\n",
       "  </thead>\n",
       "  <tbody>\n",
       "    <tr>\n",
       "      <th>13</th>\n",
       "      <td>Central - Mailroom</td>\n",
       "      <td>1</td>\n",
       "    </tr>\n",
       "    <tr>\n",
       "      <th>57</th>\n",
       "      <td>Sunset Park - 55</td>\n",
       "      <td>1</td>\n",
       "    </tr>\n",
       "    <tr>\n",
       "      <th>12</th>\n",
       "      <td>Center for Brooklyn History - 91</td>\n",
       "      <td>1</td>\n",
       "    </tr>\n",
       "    <tr>\n",
       "      <th>22</th>\n",
       "      <td>Child's Place - 39C</td>\n",
       "      <td>1</td>\n",
       "    </tr>\n",
       "    <tr>\n",
       "      <th>3</th>\n",
       "      <td>BiblioBus - 64</td>\n",
       "      <td>1</td>\n",
       "    </tr>\n",
       "  </tbody>\n",
       "</table>\n",
       "</div>"
      ],
      "text/plain": [
       "                            location tickets\n",
       "13                Central - Mailroom       1\n",
       "57                  Sunset Park - 55       1\n",
       "12  Center for Brooklyn History - 91       1\n",
       "22               Child's Place - 39C       1\n",
       "3                     BiblioBus - 64       1"
      ]
     },
     "execution_count": 98,
     "metadata": {},
     "output_type": "execute_result"
    }
   ],
   "source": [
    "gloc_bp.tail()"
   ]
  },
  {
   "cell_type": "code",
   "execution_count": 99,
   "id": "0d3b5601-494b-499d-8d3e-c0b482441bd5",
   "metadata": {},
   "outputs": [],
   "source": [
    "gloc_bp.to_csv(\"public_data/freq-loc-bp.csv\", index=False)"
   ]
  },
  {
   "cell_type": "markdown",
   "id": "da402ea8-0da3-4ade-8ba3-2e1ae0c198a0",
   "metadata": {},
   "source": [
    "#### Consider for the end-of-the-year analysis to include inactive locations (0-5 tickets per year)"
   ]
  },
  {
   "cell_type": "markdown",
   "id": "9594ecb3-ea88-4956-9618-666cc3d3d7e8",
   "metadata": {},
   "source": [
    "## Ticket Categories"
   ]
  },
  {
   "cell_type": "code",
   "execution_count": 100,
   "id": "843b3f9c-56d0-420e-a550-2da28a79face",
   "metadata": {},
   "outputs": [],
   "source": [
    "# consider last 365 days only!"
   ]
  },
  {
   "cell_type": "code",
   "execution_count": 101,
   "id": "ad76ad90-ccb4-4313-9b91-7a309bd00767",
   "metadata": {},
   "outputs": [],
   "source": [
    "columns = [\"category\", \"tickets\"]"
   ]
  },
  {
   "cell_type": "code",
   "execution_count": 102,
   "id": "0dff1c32-b8fe-4971-b76d-72375ea58a65",
   "metadata": {},
   "outputs": [],
   "source": [
    "cat_rl = pd.DataFrame(columns=columns)"
   ]
  },
  {
   "cell_type": "code",
   "execution_count": 104,
   "id": "edf8b0f9-f312-4138-a994-3998e6777d76",
   "metadata": {},
   "outputs": [],
   "source": [
    "for cat, d in loc_rl.groupby(\"subcategory\"):\n",
    "    new_row = pd.Series({\"category\": cat, \"tickets\": d.shape[0]})\n",
    "    cat_rl = pd.concat([cat_rl, new_row.to_frame().T], ignore_index=True)"
   ]
  },
  {
   "cell_type": "code",
   "execution_count": 105,
   "id": "23244768-8c79-45f2-b2b5-539c51944d1e",
   "metadata": {},
   "outputs": [],
   "source": [
    "cat_rl.to_csv(\"public_data/cat-pie-rl.csv\", index=False)"
   ]
  },
  {
   "cell_type": "code",
   "execution_count": 106,
   "id": "b66f9db4-08ef-4a77-a679-580043461025",
   "metadata": {},
   "outputs": [],
   "source": [
    "cat_bl = pd.DataFrame(columns=columns)"
   ]
  },
  {
   "cell_type": "code",
   "execution_count": 107,
   "id": "65fceb17-f5fa-4224-8724-dc9e126b703b",
   "metadata": {},
   "outputs": [],
   "source": [
    "for cat, d in loc_bl.groupby(\"subcategory\"):\n",
    "    new_row = pd.Series({\"category\": cat, \"tickets\": d.shape[0]})\n",
    "    cat_bl = pd.concat([cat_bl, new_row.to_frame().T], ignore_index=True)"
   ]
  },
  {
   "cell_type": "code",
   "execution_count": 108,
   "id": "0681318b-e807-4af1-81cf-29ca0aa0de17",
   "metadata": {},
   "outputs": [],
   "source": [
    "cat_bl.to_csv(\"public_data/cat-pie-bl.csv\", index=False)"
   ]
  },
  {
   "cell_type": "code",
   "execution_count": 109,
   "id": "81dc9359-4f71-4760-8523-01082bb71480",
   "metadata": {},
   "outputs": [],
   "source": [
    "cat_bp = pd.DataFrame(columns=columns)"
   ]
  },
  {
   "cell_type": "code",
   "execution_count": 110,
   "id": "10f5a6f7-4fe0-468f-863f-5257be9d6d78",
   "metadata": {},
   "outputs": [],
   "source": [
    "for cat, d in loc_bp.groupby(\"subcategory\"):\n",
    "    new_row = pd.Series({\"category\": cat, \"tickets\": d.shape[0]})\n",
    "    cat_bp = pd.concat([cat_bp, new_row.to_frame().T], ignore_index=True)"
   ]
  },
  {
   "cell_type": "code",
   "execution_count": 111,
   "id": "5a740547-466e-4c34-a7a0-844f7354c3cf",
   "metadata": {},
   "outputs": [],
   "source": [
    "cat_bp.to_csv(\"public_data/cat-pie-bp.csv\", index=False)"
   ]
  },
  {
   "cell_type": "markdown",
   "id": "c8645d5c-d7a7-4fcd-8ad5-c7cba6d92f50",
   "metadata": {},
   "source": [
    "### Average agent workload"
   ]
  },
  {
   "cell_type": "code",
   "execution_count": 112,
   "id": "9a1110dc-69ea-4d10-b9b0-80d248899d23",
   "metadata": {},
   "outputs": [],
   "source": [
    "# must split between systems\n",
    "# RL - 5, BL - 6, BP - 6"
   ]
  },
  {
   "cell_type": "code",
   "execution_count": 113,
   "id": "ec167e5a-a796-4302-8c76-ef7676e670d6",
   "metadata": {},
   "outputs": [],
   "source": [
    "ave_rl_tickets_per_agent = (loc_rl.shape[0] / 52.1) / 5"
   ]
  },
  {
   "cell_type": "code",
   "execution_count": 116,
   "id": "1c282a33-e567-422b-a5fe-def7d13fdec7",
   "metadata": {},
   "outputs": [
    {
     "name": "stdout",
     "output_type": "stream",
     "text": [
      "Avg. NYPL RL agent workload: 0.963531669865643 in the last 365 days.\n"
     ]
    }
   ],
   "source": [
    "print(f\"Avg. NYPL RL agent workload: {ave_rl_tickets_per_agent} in the last 365 days.\")"
   ]
  },
  {
   "cell_type": "code",
   "execution_count": 117,
   "id": "f56d93b7-bd4e-41fd-973b-f0dcd33fccd2",
   "metadata": {},
   "outputs": [],
   "source": [
    "ave_bl_tickets_per_agent_per_week = (loc_bl.shape[0] / 52.1) / 6"
   ]
  },
  {
   "cell_type": "code",
   "execution_count": 118,
   "id": "784bb931-1ad7-4d57-9a16-e8204bcedec6",
   "metadata": {},
   "outputs": [
    {
     "name": "stdout",
     "output_type": "stream",
     "text": [
      "Avg. NYPL BL agent workload: 4.293026231605886 in the last 365 days.\n"
     ]
    }
   ],
   "source": [
    "print(f\"Avg. NYPL BL agent workload: {ave_bl_tickets_per_agent_per_week} in the last 365 days.\")"
   ]
  },
  {
   "cell_type": "code",
   "execution_count": 119,
   "id": "ec2c523e-6af7-4a5d-bd27-ea24454859f1",
   "metadata": {},
   "outputs": [],
   "source": [
    "ave_bp_tickets_per_agent_per_week = (loc_bp.shape[0] / 52.1) / 6"
   ]
  },
  {
   "cell_type": "code",
   "execution_count": 121,
   "id": "6d1b127e-6c9d-4bea-a2c0-a7425537cec5",
   "metadata": {},
   "outputs": [
    {
     "name": "stdout",
     "output_type": "stream",
     "text": [
      "Avg. BPL agent workload: 3.310940499040307 in the last 365 days.\n"
     ]
    }
   ],
   "source": [
    "print(f\"Avg. BPL agent workload: {ave_bp_tickets_per_agent_per_week} in the last 365 days.\")"
   ]
  },
  {
   "cell_type": "code",
   "execution_count": 122,
   "id": "0433a515-5409-4c8b-a289-f1dfb2e3d918",
   "metadata": {},
   "outputs": [],
   "source": [
    "ave_circ_tickets_per_agent_per_week = ((loc_bl.shape[0] + loc_bp.shape[0]) / 52.1) / 12"
   ]
  },
  {
   "cell_type": "code",
   "execution_count": 124,
   "id": "000866a9-f06f-40e9-98b9-38b7a796b3a5",
   "metadata": {},
   "outputs": [
    {
     "name": "stdout",
     "output_type": "stream",
     "text": [
      "Avg. NYPL BL + BPL agent workload: 3.8019833653230966 in the last 365 days.\n"
     ]
    }
   ],
   "source": [
    "print(f\"Avg. NYPL BL + BPL agent workload: {ave_circ_tickets_per_agent_per_week} in the last 365 days.\")"
   ]
  },
  {
   "cell_type": "code",
   "execution_count": 125,
   "id": "f9952464-bf97-437c-a605-e2128bdfb296",
   "metadata": {},
   "outputs": [],
   "source": [
    "# before and after Jan 19, 2023"
   ]
  },
  {
   "cell_type": "code",
   "execution_count": 126,
   "id": "2673cf30-cadc-4437-ab86-d7f4dcb3de70",
   "metadata": {},
   "outputs": [],
   "source": [
    "point_date = datetime(2023, 1, 19)\n",
    "start_date = datetime(2023, 1, 19) - timedelta(365)"
   ]
  },
  {
   "cell_type": "code",
   "execution_count": 127,
   "id": "c5e56c1f-2310-4275-a133-5aec11bbe86d",
   "metadata": {},
   "outputs": [
    {
     "name": "stdout",
     "output_type": "stream",
     "text": [
      "2022-01-19 00:00:00 2023-01-19 00:00:00\n"
     ]
    }
   ],
   "source": [
    "print(start_date, point_date)"
   ]
  },
  {
   "cell_type": "code",
   "execution_count": 128,
   "id": "108a7b88-9d43-4495-887e-6f17b0289c3a",
   "metadata": {},
   "outputs": [],
   "source": [
    "before_df = cdf[(cdf[\"system\"] != \"NYPL Research\") & (cdf[\"resolved\"] >= start_date) & (cdf[\"resolved\"] < point_date)]"
   ]
  },
  {
   "cell_type": "code",
   "execution_count": 129,
   "id": "7d99917f-ce84-471a-ad0a-990e62010ffc",
   "metadata": {},
   "outputs": [
    {
     "data": {
      "text/plain": [
       "1859"
      ]
     },
     "execution_count": 129,
     "metadata": {},
     "output_type": "execute_result"
    }
   ],
   "source": [
    "before_df.shape[0]"
   ]
  },
  {
   "cell_type": "code",
   "execution_count": 130,
   "id": "faae0792-30f7-40b1-bcb6-4eac59457de7",
   "metadata": {},
   "outputs": [],
   "source": [
    "after_df = cdf[(cdf[\"system\"] != \"NYPL Research\") & (cdf[\"resolved\"] >= point_date)]"
   ]
  },
  {
   "cell_type": "code",
   "execution_count": 131,
   "id": "961b0034-687f-454f-b1b7-5a9f4b366537",
   "metadata": {},
   "outputs": [
    {
     "data": {
      "text/plain": [
       "1825"
      ]
     },
     "execution_count": 131,
     "metadata": {},
     "output_type": "execute_result"
    }
   ],
   "source": [
    "after_df.shape[0]"
   ]
  },
  {
   "cell_type": "code",
   "execution_count": 132,
   "id": "d43864fb-986b-431f-b69e-e046d78d772d",
   "metadata": {},
   "outputs": [],
   "source": [
    "agents_before_weekly = pd.DataFrame(columns=[\"agent\", \"tickets\"]).iloc[0:0]\n",
    "agents_before = pd.DataFrame(columns=[\"agent\", \"tickets\"]).iloc[0:0]"
   ]
  },
  {
   "cell_type": "code",
   "execution_count": 133,
   "id": "67dd3a3c-fcfe-4711-8c5c-20776789ab25",
   "metadata": {},
   "outputs": [],
   "source": [
    "for agent, d in before_df.groupby(\"resolved_by\"):\n",
    "    new_row_weekly = pd.Series({\"agent\": agent, \"tickets\": d.shape[0] / 52.1})\n",
    "    new_row = pd.Series({\"agent\": agent, \"tickets\": d.shape[0]})\n",
    "    agents_before_weekly = pd.concat([agents_before_weekly, new_row_weekly.to_frame().T], ignore_index=True)\n",
    "    agents_before = pd.concat([agents_before, new_row.to_frame().T], ignore_index=True)"
   ]
  },
  {
   "cell_type": "code",
   "execution_count": 134,
   "id": "84b44b42-363a-4509-ab41-fe34ad189878",
   "metadata": {},
   "outputs": [],
   "source": [
    "agents_before = agents_before.sort_values(\"tickets\", ascending=False)\n",
    "agents_before_weekly = agents_before_weekly.sort_values(\"tickets\", ascending=False)"
   ]
  },
  {
   "cell_type": "code",
   "execution_count": 135,
   "id": "60c44417-b8eb-4b97-b541-bace4191c9e9",
   "metadata": {},
   "outputs": [],
   "source": [
    "agents_before.to_csv(\"private_data/agents-circ-before.csv\", index=False)\n",
    "agents_before_weekly.to_csv(\"private_data/agents-circ-before-weekly.csv\", index=False)"
   ]
  },
  {
   "cell_type": "code",
   "execution_count": 136,
   "id": "6cc2a13e-68e8-430a-9a57-062c270dcad4",
   "metadata": {},
   "outputs": [],
   "source": [
    "agents_after = pd.DataFrame(columns=[\"agent\", \"tickets\"]).iloc[0:0]\n",
    "agents_after_weekly = pd.DataFrame(columns=[\"agent\", \"tickets\"]).iloc[0:0]"
   ]
  },
  {
   "cell_type": "code",
   "execution_count": 137,
   "id": "c0ace4dd-fbf6-4219-ae80-471f62d52758",
   "metadata": {},
   "outputs": [],
   "source": [
    "for agent, d in after_df.groupby(\"resolved_by\"):\n",
    "    new_row_weekly = pd.Series({\"agent\": agent, \"tickets\": d.shape[0] / 52.1})\n",
    "    new_row = pd.Series({\"agent\": agent, \"tickets\": d.shape[0]})\n",
    "    agents_after = pd.concat([agents_after, new_row.to_frame().T], ignore_index=True)\n",
    "    agents_after_weekly = pd.concat([agents_after_weekly, new_row_weekly.to_frame().T], ignore_index=True)"
   ]
  },
  {
   "cell_type": "code",
   "execution_count": 138,
   "id": "6c886d16-b780-4af6-888e-bfd07b4a008a",
   "metadata": {},
   "outputs": [],
   "source": [
    "agents_after = agents_after.sort_values(\"tickets\", ascending=False)\n",
    "agents_after_weekly = agents_after_weekly.sort_values(\"tickets\", ascending=False)"
   ]
  },
  {
   "cell_type": "code",
   "execution_count": 139,
   "id": "d5c24d2e-1ffe-406d-b700-ff841ed444d8",
   "metadata": {},
   "outputs": [],
   "source": [
    "agents_after.to_csv(\"private_data/agents-circ-after.csv\", index=False)"
   ]
  },
  {
   "cell_type": "code",
   "execution_count": 140,
   "id": "19411108-bac2-4bdb-ba1e-dfa20b511772",
   "metadata": {},
   "outputs": [],
   "source": [
    "agents_after_weekly.to_csv(\"private_data/agents-circ-after-weekly.csv\", index=False)"
   ]
  },
  {
   "cell_type": "markdown",
   "id": "a335409a-3508-4adc-897e-48eeef4b58e1",
   "metadata": {},
   "source": [
    "### Circ agents response times before and after (equal periods)"
   ]
  },
  {
   "cell_type": "code",
   "execution_count": 141,
   "id": "23d41ebd-923c-42f0-958c-1511cf58ca88",
   "metadata": {},
   "outputs": [],
   "source": [
    "relevant_days = (datetime(2023, 6, 4) - datetime(2023, 1, 1)).days"
   ]
  },
  {
   "cell_type": "code",
   "execution_count": 142,
   "id": "9769aacf-a5d9-48b0-860d-da491388e4f9",
   "metadata": {},
   "outputs": [],
   "source": [
    "reorg_date = datetime(2023, 1, 19)"
   ]
  },
  {
   "cell_type": "code",
   "execution_count": 143,
   "id": "c2d176c0-7e47-4fba-8b65-5b39bb6074f2",
   "metadata": {},
   "outputs": [],
   "source": [
    "before_df = cdf[(cdf[\"system\"] != \"NYPL Research\") & (cdf[\"created\"] < datetime(2023, 1, 19)) & (cdf[\"created\"] >= reorg_date - timedelta(relevant_days)) & (cdf[\"resolved\"].notnull())]"
   ]
  },
  {
   "cell_type": "code",
   "execution_count": 144,
   "id": "6ebe894b-a81a-463e-b4b4-532de453cf32",
   "metadata": {},
   "outputs": [
    {
     "data": {
      "text/plain": [
       "827"
      ]
     },
     "execution_count": 144,
     "metadata": {},
     "output_type": "execute_result"
    }
   ],
   "source": [
    "before_df.shape[0]"
   ]
  },
  {
   "cell_type": "code",
   "execution_count": 145,
   "id": "5249246a-fd17-4079-a089-8044ab1ac5a6",
   "metadata": {},
   "outputs": [
    {
     "data": {
      "text/plain": [
       "<DatetimeArray>\n",
       "['2022-08-18 12:05:05', '2022-08-18 12:48:18', '2022-08-19 07:35:52',\n",
       " '2022-08-18 15:10:34', '2022-08-18 16:19:13', '2022-08-19 10:30:15',\n",
       " '2022-08-19 10:27:41', '2022-08-19 14:28:02', '2022-08-22 14:15:29',\n",
       " '2022-08-22 13:39:02',\n",
       " ...\n",
       " '2023-01-19 09:47:53', '2023-01-23 09:17:10', '2023-01-20 16:08:51',\n",
       " '2023-01-17 15:59:04', '2023-01-26 14:12:56', '2023-01-18 15:24:40',\n",
       " '2023-01-23 10:28:14', '2023-01-31 08:54:31', '2023-01-19 09:46:00',\n",
       " '2023-01-27 12:18:09']\n",
       "Length: 826, dtype: datetime64[ns]"
      ]
     },
     "execution_count": 145,
     "metadata": {},
     "output_type": "execute_result"
    }
   ],
   "source": [
    "before_df[\"resolved\"].unique()"
   ]
  },
  {
   "cell_type": "code",
   "execution_count": 146,
   "id": "b8ee540c-0729-4d77-a72c-c12d081350f1",
   "metadata": {},
   "outputs": [],
   "source": [
    "after_df = cdf[(cdf[\"system\"] != \"NYPL Research\") & (cdf[\"created\"] >= datetime(2023, 1, 19)) & (cdf[\"resolved\"].notnull())]"
   ]
  },
  {
   "cell_type": "code",
   "execution_count": 147,
   "id": "321265b4-1191-4841-83cd-bb2bbb986e03",
   "metadata": {},
   "outputs": [
    {
     "data": {
      "text/plain": [
       "1045"
      ]
     },
     "execution_count": 147,
     "metadata": {},
     "output_type": "execute_result"
    }
   ],
   "source": [
    "after_df.shape[0]"
   ]
  },
  {
   "cell_type": "code",
   "execution_count": 148,
   "id": "01935bfb-d470-4e4b-8b05-5b280929b2b5",
   "metadata": {},
   "outputs": [
    {
     "data": {
      "text/plain": [
       "<DatetimeArray>\n",
       "['2023-01-19 16:52:31', '2023-01-19 13:34:33', '2023-01-23 15:35:38',\n",
       " '2023-01-23 15:41:01', '2023-01-20 11:18:22', '2023-01-20 11:04:47',\n",
       " '2023-01-20 11:17:03', '2023-01-20 10:32:29', '2023-01-20 10:18:42',\n",
       " '2023-01-23 09:00:14',\n",
       " ...\n",
       " '2023-06-01 10:10:36', '2023-06-01 09:25:47', '2023-06-01 11:52:41',\n",
       " '2023-06-02 12:18:13', '2023-06-01 15:22:57', '2023-06-02 09:56:36',\n",
       " '2023-06-02 09:58:57', '2023-06-02 10:32:44', '2023-06-02 14:52:23',\n",
       " '2023-06-02 12:54:16']\n",
       "Length: 1045, dtype: datetime64[ns]"
      ]
     },
     "execution_count": 148,
     "metadata": {},
     "output_type": "execute_result"
    }
   ],
   "source": [
    "after_df[\"resolved\"].unique()"
   ]
  },
  {
   "cell_type": "code",
   "execution_count": 149,
   "id": "d52120ea-369a-4a42-aab1-3a92a13c6575",
   "metadata": {},
   "outputs": [
    {
     "name": "stderr",
     "output_type": "stream",
     "text": [
      "C:\\Users\\Tomek\\AppData\\Local\\Temp\\ipykernel_18032\\1901942124.py:1: SettingWithCopyWarning: \n",
      "A value is trying to be set on a copy of a slice from a DataFrame.\n",
      "Try using .loc[row_indexer,col_indexer] = value instead\n",
      "\n",
      "See the caveats in the documentation: https://pandas.pydata.org/pandas-docs/stable/user_guide/indexing.html#returning-a-view-versus-a-copy\n",
      "  before_df[\"time2resolve\"] = before_df[\"resolved\"] - before_df[\"created\"]\n"
     ]
    }
   ],
   "source": [
    "before_df[\"time2resolve\"] = before_df[\"resolved\"] - before_df[\"created\"]"
   ]
  },
  {
   "cell_type": "code",
   "execution_count": 150,
   "id": "84968a95-c9d5-47dc-a40f-3ca850a266e2",
   "metadata": {},
   "outputs": [
    {
     "data": {
      "text/plain": [
       "count                           827\n",
       "mean     33 days 06:57:33.574365175\n",
       "std      50 days 13:27:01.626564466\n",
       "min                 0 days 00:03:03\n",
       "25%          0 days 16:19:07.500000\n",
       "50%                 9 days 19:45:40\n",
       "75%         44 days 09:22:31.500000\n",
       "max               265 days 06:34:50\n",
       "Name: time2resolve, dtype: object"
      ]
     },
     "execution_count": 150,
     "metadata": {},
     "output_type": "execute_result"
    }
   ],
   "source": [
    "before_df[\"time2resolve\"].describe()"
   ]
  },
  {
   "cell_type": "code",
   "execution_count": 152,
   "id": "d8ddd89e-467f-437a-a6b1-4b85e55b12ba",
   "metadata": {},
   "outputs": [],
   "source": [
    "before_df.to_csv(\"public_data/time2resolve-circ-before-all-points.csv\", columns=[\"number\", \"time2resolve\"], index=False)"
   ]
  },
  {
   "cell_type": "code",
   "execution_count": 153,
   "id": "48d31d5e-5cef-4f73-b24a-63b6069529f6",
   "metadata": {},
   "outputs": [
    {
     "name": "stderr",
     "output_type": "stream",
     "text": [
      "C:\\Users\\Tomek\\AppData\\Local\\Temp\\ipykernel_18032\\861357957.py:1: SettingWithCopyWarning: \n",
      "A value is trying to be set on a copy of a slice from a DataFrame.\n",
      "Try using .loc[row_indexer,col_indexer] = value instead\n",
      "\n",
      "See the caveats in the documentation: https://pandas.pydata.org/pandas-docs/stable/user_guide/indexing.html#returning-a-view-versus-a-copy\n",
      "  after_df[\"time2resolve\"] = after_df[\"resolved\"] - after_df[\"created\"]\n"
     ]
    }
   ],
   "source": [
    "after_df[\"time2resolve\"] = after_df[\"resolved\"] - after_df[\"created\"]"
   ]
  },
  {
   "cell_type": "code",
   "execution_count": 154,
   "id": "2d8de886-c13d-41c2-946c-ca31c0e981fe",
   "metadata": {},
   "outputs": [
    {
     "data": {
      "text/plain": [
       "count                         1045\n",
       "mean     2 days 21:53:17.162679425\n",
       "std      9 days 06:42:34.775753653\n",
       "min                0 days 00:01:32\n",
       "25%                0 days 02:55:04\n",
       "50%                0 days 20:23:50\n",
       "75%                2 days 03:20:06\n",
       "max              124 days 07:48:06\n",
       "Name: time2resolve, dtype: object"
      ]
     },
     "execution_count": 154,
     "metadata": {},
     "output_type": "execute_result"
    }
   ],
   "source": [
    "after_df[\"time2resolve\"].describe()"
   ]
  },
  {
   "cell_type": "code",
   "execution_count": 156,
   "id": "acc9e418-c9f8-4f41-b2f7-db2aa115fd9f",
   "metadata": {},
   "outputs": [],
   "source": [
    "after_df.to_csv(\"public_data/time2resolve-circ-after-all-points.csv\", columns=[\"number\", \"time2resolve\"], index=False)"
   ]
  }
 ],
 "metadata": {
  "kernelspec": {
   "display_name": "Python 3 (ipykernel)",
   "language": "python",
   "name": "python3"
  },
  "language_info": {
   "codemirror_mode": {
    "name": "ipython",
    "version": 3
   },
   "file_extension": ".py",
   "mimetype": "text/x-python",
   "name": "python",
   "nbconvert_exporter": "python",
   "pygments_lexer": "ipython3",
   "version": "3.10.7"
  }
 },
 "nbformat": 4,
 "nbformat_minor": 5
}
