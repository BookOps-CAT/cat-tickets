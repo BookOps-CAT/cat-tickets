{
 "cells": [
  {
   "cell_type": "code",
   "execution_count": 1,
   "id": "4e613f2e-e663-4e1b-a782-57f178d7ec77",
   "metadata": {},
   "outputs": [],
   "source": [
    "import pandas as pd"
   ]
  },
  {
   "cell_type": "code",
   "execution_count": 2,
   "id": "02f63107-c206-420b-8223-b8f194092730",
   "metadata": {},
   "outputs": [],
   "source": [
    "df = pd.read_csv(\n",
    "    \"src_data/u_bkop_incident_230603.csv\",\n",
    "    parse_dates=[\"created\", \"resolved\"],\n",
    "    low_memory=False\n",
    ")"
   ]
  },
  {
   "cell_type": "code",
   "execution_count": 3,
   "id": "2dbcaf52-73f4-4a69-be96-6f7aa51d70ad",
   "metadata": {},
   "outputs": [
    {
     "data": {
      "text/plain": [
       "121479"
      ]
     },
     "execution_count": 3,
     "metadata": {},
     "output_type": "execute_result"
    }
   ],
   "source": [
    "df.shape[0]"
   ]
  },
  {
   "cell_type": "code",
   "execution_count": 4,
   "id": "60a2e3a8-dd75-4699-bae6-e445661e47d6",
   "metadata": {},
   "outputs": [
    {
     "data": {
      "text/plain": [
       "Index(['number', 'created', 'caller', 'state', 'category', 'subcategory',\n",
       "       'assignment_group', 'bpl_location', 'nyp_location', 'resolved',\n",
       "       'assigned_to', 'system', 'mat_source', 'close_code', 'url',\n",
       "       'reassignment_count', 'updates', 'resolved_by'],\n",
       "      dtype='object')"
      ]
     },
     "execution_count": 4,
     "metadata": {},
     "output_type": "execute_result"
    }
   ],
   "source": [
    "df.columns"
   ]
  },
  {
   "cell_type": "code",
   "execution_count": 5,
   "id": "08210e6a-b98f-4042-9b75-70e715867ae8",
   "metadata": {},
   "outputs": [
    {
     "data": {
      "text/plain": [
       "array(['Cataloging', 'Acquisitions', 'Selection', 'Logistics',\n",
       "       'Offsite - ReCAP', 'Collections Processing', nan], dtype=object)"
      ]
     },
     "execution_count": 5,
     "metadata": {},
     "output_type": "execute_result"
    }
   ],
   "source": [
    "df[\"category\"].unique()"
   ]
  },
  {
   "cell_type": "markdown",
   "id": "1f5c3995-60e2-4996-b7db-1ec155a96f06",
   "metadata": {},
   "source": [
    "### orginated as CAT or resolved by CAT"
   ]
  },
  {
   "cell_type": "code",
   "execution_count": 6,
   "id": "980a561d-028e-4291-8c5a-225d55cfa143",
   "metadata": {},
   "outputs": [],
   "source": [
    "cdf = df[(df[\"category\"] == \"Cataloging\")|(df[\"assignment_group\"] == \"BKOPS CAT\")]"
   ]
  },
  {
   "cell_type": "code",
   "execution_count": 7,
   "id": "1045b9b9-b83b-49a2-9071-b607e5d6d7b4",
   "metadata": {},
   "outputs": [
    {
     "data": {
      "text/plain": [
       "21250"
      ]
     },
     "execution_count": 7,
     "metadata": {},
     "output_type": "execute_result"
    }
   ],
   "source": [
    "cdf.shape[0]"
   ]
  },
  {
   "cell_type": "markdown",
   "id": "61b35528-ae34-442a-a0da-6fc087cc8d24",
   "metadata": {},
   "source": [
    "## CAT tickets volumne by year"
   ]
  },
  {
   "cell_type": "code",
   "execution_count": 8,
   "id": "dcd178e3-40f1-4a65-856c-90e1ecbaaa99",
   "metadata": {},
   "outputs": [],
   "source": [
    "gyear_cdf = cdf.groupby(cdf[\"created\"].map(lambda x: x.year))"
   ]
  },
  {
   "cell_type": "code",
   "execution_count": 9,
   "id": "70484611-79fb-4ea1-b802-d09f526e923a",
   "metadata": {},
   "outputs": [],
   "source": [
    "ycdf = pd.DataFrame(columns=[\"year\", \"tickets\"])"
   ]
  },
  {
   "cell_type": "code",
   "execution_count": 10,
   "id": "19b8efe3-5690-4bae-915f-427b02bd104f",
   "metadata": {},
   "outputs": [],
   "source": [
    "for year, d in gyear_cdf:\n",
    "    new_row = pd.Series({\"year\": year, \"tickets\": d.shape[0]})\n",
    "    ycdf = pd.concat([ycdf, new_row.to_frame().T], ignore_index=True)"
   ]
  },
  {
   "cell_type": "code",
   "execution_count": 11,
   "id": "631a83f6-d136-44fd-88c2-ff251ae6dbd5",
   "metadata": {},
   "outputs": [
    {
     "data": {
      "text/html": [
       "<div>\n",
       "<style scoped>\n",
       "    .dataframe tbody tr th:only-of-type {\n",
       "        vertical-align: middle;\n",
       "    }\n",
       "\n",
       "    .dataframe tbody tr th {\n",
       "        vertical-align: top;\n",
       "    }\n",
       "\n",
       "    .dataframe thead th {\n",
       "        text-align: right;\n",
       "    }\n",
       "</style>\n",
       "<table border=\"1\" class=\"dataframe\">\n",
       "  <thead>\n",
       "    <tr style=\"text-align: right;\">\n",
       "      <th></th>\n",
       "      <th>year</th>\n",
       "      <th>tickets</th>\n",
       "    </tr>\n",
       "  </thead>\n",
       "  <tbody>\n",
       "    <tr>\n",
       "      <th>0</th>\n",
       "      <td>2013</td>\n",
       "      <td>1311</td>\n",
       "    </tr>\n",
       "    <tr>\n",
       "      <th>1</th>\n",
       "      <td>2014</td>\n",
       "      <td>2140</td>\n",
       "    </tr>\n",
       "    <tr>\n",
       "      <th>2</th>\n",
       "      <td>2015</td>\n",
       "      <td>2739</td>\n",
       "    </tr>\n",
       "    <tr>\n",
       "      <th>3</th>\n",
       "      <td>2016</td>\n",
       "      <td>2554</td>\n",
       "    </tr>\n",
       "    <tr>\n",
       "      <th>4</th>\n",
       "      <td>2017</td>\n",
       "      <td>2233</td>\n",
       "    </tr>\n",
       "    <tr>\n",
       "      <th>5</th>\n",
       "      <td>2018</td>\n",
       "      <td>2112</td>\n",
       "    </tr>\n",
       "    <tr>\n",
       "      <th>6</th>\n",
       "      <td>2019</td>\n",
       "      <td>1785</td>\n",
       "    </tr>\n",
       "    <tr>\n",
       "      <th>7</th>\n",
       "      <td>2020</td>\n",
       "      <td>955</td>\n",
       "    </tr>\n",
       "    <tr>\n",
       "      <th>8</th>\n",
       "      <td>2021</td>\n",
       "      <td>1964</td>\n",
       "    </tr>\n",
       "    <tr>\n",
       "      <th>9</th>\n",
       "      <td>2022</td>\n",
       "      <td>2169</td>\n",
       "    </tr>\n",
       "    <tr>\n",
       "      <th>10</th>\n",
       "      <td>2023</td>\n",
       "      <td>1288</td>\n",
       "    </tr>\n",
       "  </tbody>\n",
       "</table>\n",
       "</div>"
      ],
      "text/plain": [
       "    year tickets\n",
       "0   2013    1311\n",
       "1   2014    2140\n",
       "2   2015    2739\n",
       "3   2016    2554\n",
       "4   2017    2233\n",
       "5   2018    2112\n",
       "6   2019    1785\n",
       "7   2020     955\n",
       "8   2021    1964\n",
       "9   2022    2169\n",
       "10  2023    1288"
      ]
     },
     "execution_count": 11,
     "metadata": {},
     "output_type": "execute_result"
    }
   ],
   "source": [
    "ycdf"
   ]
  },
  {
   "cell_type": "code",
   "execution_count": 12,
   "id": "c2ebfec6-338b-424f-95a7-f5f2ca04dda6",
   "metadata": {},
   "outputs": [],
   "source": [
    "ycdf.to_csv(\"public_data/cat-by-year-230604.csv\", index=False)"
   ]
  },
  {
   "cell_type": "code",
   "execution_count": 19,
   "id": "258cebd3-f7d3-4bb2-91d1-9a20c634fdc1",
   "metadata": {},
   "outputs": [],
   "source": [
    "ycdf_rl = pd.DataFrame(columns=[\"system\", \"year\", \"tickets\"])\n",
    "ycdf_bl = pd.DataFrame(columns=[\"system\", \"year\", \"tickets\"])\n",
    "ycdf_bp = pd.DataFrame(columns=[\"system\", \"year\", \"tickets\"])"
   ]
  },
  {
   "cell_type": "code",
   "execution_count": 20,
   "id": "9c599050-95a0-42ad-a26c-ddf1e7ae53d3",
   "metadata": {},
   "outputs": [],
   "source": [
    "for year, d in gyear_cdf:\n",
    "    rl_df = d[d[\"system\"] == \"NYPL Research\"]\n",
    "    bl_df = d[d[\"system\"] == \"NYPL Circulating\"]\n",
    "    bp_df = d[d[\"system\"] == \"BPL Circulating\"]\n",
    "    new_rl = pd.Series({\"system\": \"NYPL RL\", \"year\": year, \"tickets\", : rl_df.shape[0]})\n",
    "    new_bl = pd.Series({\"system\", \"NYPL BL\", \"year\": year, \"tickets\": bl_df.shape[0]})\n",
    "    new_bp = pd.Series({\"system\", \"BPL\", \"year\": year, \"tickets\": bp_df.shape[0]})\n",
    "    ycdf_rl = pd.concat([ycdf_rl, new_rl.to_frame().T], ignore_index=True)\n",
    "    ycdf_bl = pd.concat([ycdf_bl, new_bl.to_frame().T], ignore_index=True)\n",
    "    ycdf_bp = pd.concat([ycdf_bp, new_bp.to_frame().T], ignore_index=True)"
   ]
  },
  {
   "cell_type": "code",
   "execution_count": 21,
   "id": "a43f2f95-3ebd-447f-ba21-c3741b0e6eb2",
   "metadata": {},
   "outputs": [],
   "source": [
    "ycdf_rl.to_csv(\"public_data/rl-by-year-230604.csv\", index=False)\n",
    "ycdf_bl.to_csv(\"public_data/bl-by-year-230604.csv\", index=False)\n",
    "ycdf_bp.to_csv(\"public_data/bp-by-year-230604.csv\", index=False)"
   ]
  },
  {
   "cell_type": "code",
   "execution_count": null,
   "id": "3a427b44-197d-45e4-a1c1-3e3a7a995ea2",
   "metadata": {},
   "outputs": [],
   "source": []
  }
 ],
 "metadata": {
  "kernelspec": {
   "display_name": "Python 3 (ipykernel)",
   "language": "python",
   "name": "python3"
  },
  "language_info": {
   "codemirror_mode": {
    "name": "ipython",
    "version": 3
   },
   "file_extension": ".py",
   "mimetype": "text/x-python",
   "name": "python",
   "nbconvert_exporter": "python",
   "pygments_lexer": "ipython3",
   "version": "3.10.7"
  }
 },
 "nbformat": 4,
 "nbformat_minor": 5
}
